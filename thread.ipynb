{
 "cells": [
  {
   "cell_type": "code",
   "execution_count": 1,
   "metadata": {},
   "outputs": [],
   "source": [
    "import openai\n",
    "import time\n",
    "client = openai.OpenAI(api_key='')"
   ]
  },
  {
   "cell_type": "markdown",
   "metadata": {},
   "source": [
    "```There is a limit of 100,000 Messages per Thread. Once the size of the Messages exceeds the context window of the model, the Thread will attempt to smartly truncate messages, before fully dropping the ones it considers the least important.```"
   ]
  },
  {
   "cell_type": "code",
   "execution_count": 2,
   "metadata": {},
   "outputs": [],
   "source": [
    "## Assistant\n",
    "assistant = client.beta.assistants.create(\n",
    "  name=\"Data visualizer\",\n",
    "  description=\"You're a Python teacher for begginers. Show your studens how to code properly.\",\n",
    "  model=\"gpt-4o\",\n",
    "  tools=[{\"type\": \"code_interpreter\"}]\n",
    ")"
   ]
  },
  {
   "cell_type": "code",
   "execution_count": 3,
   "metadata": {},
   "outputs": [],
   "source": [
    "## Thread\n",
    "thread = client.beta.threads.create(\n",
    "  messages=[\n",
    "    {\n",
    "      \"role\": \"user\",\n",
    "      \"content\": \"Give 2 alternatives for creating a barplot with a pandas DataFrame.\",\n",
    "    }\n",
    "  ]\n",
    ")"
   ]
  },
  {
   "cell_type": "markdown",
   "metadata": {},
   "source": [
    "```\n",
    "By default, a Run will use the model and tools configuration specified in Assistant object, but you can override most of these when creating the Run for added flexibility:\n",
    "\n",
    "```"
   ]
  },
  {
   "cell_type": "code",
   "execution_count": 4,
   "metadata": {},
   "outputs": [],
   "source": [
    "## Creating a run\n",
    "run = client.beta.threads.runs.create(\n",
    "  thread_id=thread.id,\n",
    "  assistant_id=assistant.id\n",
    ")"
   ]
  },
  {
   "cell_type": "markdown",
   "metadata": {},
   "source": [
    "`If you are not using streaming, in order to keep the status of your run up to date, you will have to periodically retrieve the Run object. `"
   ]
  },
  {
   "cell_type": "markdown",
   "metadata": {},
   "source": [
    "##  Thread locks"
   ]
  },
  {
   "cell_type": "markdown",
   "metadata": {},
   "source": [
    "```\n",
    "When a Run is in_progress and not in a terminal state, the Thread is locked. This means that:\n",
    "- New Messages cannot be added to the Thread.\n",
    "- New Runs cannot be created on the Thread.```"
   ]
  },
  {
   "cell_type": "markdown",
   "metadata": {},
   "source": [
    "```\n",
    "** Objects related to the Assistants API are deleted from our servers 30 days after you delete them via the API or the dashboard. Objects that are not deleted via the API or dashboard are retained indefinitely.\n",
    "```"
   ]
  },
  {
   "cell_type": "code",
   "execution_count": 5,
   "metadata": {},
   "outputs": [
    {
     "name": "stdout",
     "output_type": "stream",
     "text": [
      "Run(id='run_23CWc1QtRHBae341Bt2Xsb5N', assistant_id='asst_U3vmJuHlWzHCO2A4RW1tBh7i', cancelled_at=None, completed_at=None, created_at=1725912254, expires_at=1725912854, failed_at=None, incomplete_details=None, instructions=None, last_error=None, max_completion_tokens=None, max_prompt_tokens=None, metadata={}, model='gpt-4o', object='thread.run', parallel_tool_calls=True, required_action=None, response_format='auto', started_at=1725912254, status='in_progress', thread_id='thread_mQIZtUmxDI5PwxtyekI70YEY', tool_choice='auto', tools=[CodeInterpreterTool(type='code_interpreter')], truncation_strategy=TruncationStrategy(type='auto', last_messages=None), usage=None, temperature=1.0, top_p=1.0, tool_resources={})\n",
      "Run(id='run_23CWc1QtRHBae341Bt2Xsb5N', assistant_id='asst_U3vmJuHlWzHCO2A4RW1tBh7i', cancelled_at=None, completed_at=None, created_at=1725912254, expires_at=1725912854, failed_at=None, incomplete_details=None, instructions=None, last_error=None, max_completion_tokens=None, max_prompt_tokens=None, metadata={}, model='gpt-4o', object='thread.run', parallel_tool_calls=True, required_action=None, response_format='auto', started_at=1725912254, status='in_progress', thread_id='thread_mQIZtUmxDI5PwxtyekI70YEY', tool_choice='auto', tools=[CodeInterpreterTool(type='code_interpreter')], truncation_strategy=TruncationStrategy(type='auto', last_messages=None), usage=None, temperature=1.0, top_p=1.0, tool_resources={})\n",
      "Run(id='run_23CWc1QtRHBae341Bt2Xsb5N', assistant_id='asst_U3vmJuHlWzHCO2A4RW1tBh7i', cancelled_at=None, completed_at=None, created_at=1725912254, expires_at=1725912854, failed_at=None, incomplete_details=None, instructions=None, last_error=None, max_completion_tokens=None, max_prompt_tokens=None, metadata={}, model='gpt-4o', object='thread.run', parallel_tool_calls=True, required_action=None, response_format='auto', started_at=1725912254, status='in_progress', thread_id='thread_mQIZtUmxDI5PwxtyekI70YEY', tool_choice='auto', tools=[CodeInterpreterTool(type='code_interpreter')], truncation_strategy=TruncationStrategy(type='auto', last_messages=None), usage=None, temperature=1.0, top_p=1.0, tool_resources={})\n",
      "Run(id='run_23CWc1QtRHBae341Bt2Xsb5N', assistant_id='asst_U3vmJuHlWzHCO2A4RW1tBh7i', cancelled_at=None, completed_at=None, created_at=1725912254, expires_at=1725912854, failed_at=None, incomplete_details=None, instructions=None, last_error=None, max_completion_tokens=None, max_prompt_tokens=None, metadata={}, model='gpt-4o', object='thread.run', parallel_tool_calls=True, required_action=None, response_format='auto', started_at=1725912254, status='in_progress', thread_id='thread_mQIZtUmxDI5PwxtyekI70YEY', tool_choice='auto', tools=[CodeInterpreterTool(type='code_interpreter')], truncation_strategy=TruncationStrategy(type='auto', last_messages=None), usage=None, temperature=1.0, top_p=1.0, tool_resources={})\n",
      "Run(id='run_23CWc1QtRHBae341Bt2Xsb5N', assistant_id='asst_U3vmJuHlWzHCO2A4RW1tBh7i', cancelled_at=None, completed_at=None, created_at=1725912254, expires_at=1725912854, failed_at=None, incomplete_details=None, instructions=None, last_error=None, max_completion_tokens=None, max_prompt_tokens=None, metadata={}, model='gpt-4o', object='thread.run', parallel_tool_calls=True, required_action=None, response_format='auto', started_at=1725912254, status='in_progress', thread_id='thread_mQIZtUmxDI5PwxtyekI70YEY', tool_choice='auto', tools=[CodeInterpreterTool(type='code_interpreter')], truncation_strategy=TruncationStrategy(type='auto', last_messages=None), usage=None, temperature=1.0, top_p=1.0, tool_resources={})\n",
      "Run(id='run_23CWc1QtRHBae341Bt2Xsb5N', assistant_id='asst_U3vmJuHlWzHCO2A4RW1tBh7i', cancelled_at=None, completed_at=None, created_at=1725912254, expires_at=1725912854, failed_at=None, incomplete_details=None, instructions=None, last_error=None, max_completion_tokens=None, max_prompt_tokens=None, metadata={}, model='gpt-4o', object='thread.run', parallel_tool_calls=True, required_action=None, response_format='auto', started_at=1725912254, status='in_progress', thread_id='thread_mQIZtUmxDI5PwxtyekI70YEY', tool_choice='auto', tools=[CodeInterpreterTool(type='code_interpreter')], truncation_strategy=TruncationStrategy(type='auto', last_messages=None), usage=None, temperature=1.0, top_p=1.0, tool_resources={})\n",
      "Run(id='run_23CWc1QtRHBae341Bt2Xsb5N', assistant_id='asst_U3vmJuHlWzHCO2A4RW1tBh7i', cancelled_at=None, completed_at=None, created_at=1725912254, expires_at=1725912854, failed_at=None, incomplete_details=None, instructions=None, last_error=None, max_completion_tokens=None, max_prompt_tokens=None, metadata={}, model='gpt-4o', object='thread.run', parallel_tool_calls=True, required_action=None, response_format='auto', started_at=1725912254, status='in_progress', thread_id='thread_mQIZtUmxDI5PwxtyekI70YEY', tool_choice='auto', tools=[CodeInterpreterTool(type='code_interpreter')], truncation_strategy=TruncationStrategy(type='auto', last_messages=None), usage=None, temperature=1.0, top_p=1.0, tool_resources={})\n",
      "Run(id='run_23CWc1QtRHBae341Bt2Xsb5N', assistant_id='asst_U3vmJuHlWzHCO2A4RW1tBh7i', cancelled_at=None, completed_at=None, created_at=1725912254, expires_at=1725912854, failed_at=None, incomplete_details=None, instructions=None, last_error=None, max_completion_tokens=None, max_prompt_tokens=None, metadata={}, model='gpt-4o', object='thread.run', parallel_tool_calls=True, required_action=None, response_format='auto', started_at=1725912254, status='in_progress', thread_id='thread_mQIZtUmxDI5PwxtyekI70YEY', tool_choice='auto', tools=[CodeInterpreterTool(type='code_interpreter')], truncation_strategy=TruncationStrategy(type='auto', last_messages=None), usage=None, temperature=1.0, top_p=1.0, tool_resources={})\n",
      "Run(id='run_23CWc1QtRHBae341Bt2Xsb5N', assistant_id='asst_U3vmJuHlWzHCO2A4RW1tBh7i', cancelled_at=None, completed_at=None, created_at=1725912254, expires_at=1725912854, failed_at=None, incomplete_details=None, instructions=None, last_error=None, max_completion_tokens=None, max_prompt_tokens=None, metadata={}, model='gpt-4o', object='thread.run', parallel_tool_calls=True, required_action=None, response_format='auto', started_at=1725912254, status='in_progress', thread_id='thread_mQIZtUmxDI5PwxtyekI70YEY', tool_choice='auto', tools=[CodeInterpreterTool(type='code_interpreter')], truncation_strategy=TruncationStrategy(type='auto', last_messages=None), usage=None, temperature=1.0, top_p=1.0, tool_resources={})\n",
      "Run(id='run_23CWc1QtRHBae341Bt2Xsb5N', assistant_id='asst_U3vmJuHlWzHCO2A4RW1tBh7i', cancelled_at=None, completed_at=None, created_at=1725912254, expires_at=1725912854, failed_at=None, incomplete_details=None, instructions=None, last_error=None, max_completion_tokens=None, max_prompt_tokens=None, metadata={}, model='gpt-4o', object='thread.run', parallel_tool_calls=True, required_action=None, response_format='auto', started_at=1725912254, status='in_progress', thread_id='thread_mQIZtUmxDI5PwxtyekI70YEY', tool_choice='auto', tools=[CodeInterpreterTool(type='code_interpreter')], truncation_strategy=TruncationStrategy(type='auto', last_messages=None), usage=None, temperature=1.0, top_p=1.0, tool_resources={})\n",
      "Run(id='run_23CWc1QtRHBae341Bt2Xsb5N', assistant_id='asst_U3vmJuHlWzHCO2A4RW1tBh7i', cancelled_at=None, completed_at=None, created_at=1725912254, expires_at=1725912854, failed_at=None, incomplete_details=None, instructions=None, last_error=None, max_completion_tokens=None, max_prompt_tokens=None, metadata={}, model='gpt-4o', object='thread.run', parallel_tool_calls=True, required_action=None, response_format='auto', started_at=1725912254, status='in_progress', thread_id='thread_mQIZtUmxDI5PwxtyekI70YEY', tool_choice='auto', tools=[CodeInterpreterTool(type='code_interpreter')], truncation_strategy=TruncationStrategy(type='auto', last_messages=None), usage=None, temperature=1.0, top_p=1.0, tool_resources={})\n",
      "Run(id='run_23CWc1QtRHBae341Bt2Xsb5N', assistant_id='asst_U3vmJuHlWzHCO2A4RW1tBh7i', cancelled_at=None, completed_at=None, created_at=1725912254, expires_at=1725912854, failed_at=None, incomplete_details=None, instructions=None, last_error=None, max_completion_tokens=None, max_prompt_tokens=None, metadata={}, model='gpt-4o', object='thread.run', parallel_tool_calls=True, required_action=None, response_format='auto', started_at=1725912254, status='in_progress', thread_id='thread_mQIZtUmxDI5PwxtyekI70YEY', tool_choice='auto', tools=[CodeInterpreterTool(type='code_interpreter')], truncation_strategy=TruncationStrategy(type='auto', last_messages=None), usage=None, temperature=1.0, top_p=1.0, tool_resources={})\n",
      "Run(id='run_23CWc1QtRHBae341Bt2Xsb5N', assistant_id='asst_U3vmJuHlWzHCO2A4RW1tBh7i', cancelled_at=None, completed_at=None, created_at=1725912254, expires_at=1725912854, failed_at=None, incomplete_details=None, instructions=None, last_error=None, max_completion_tokens=None, max_prompt_tokens=None, metadata={}, model='gpt-4o', object='thread.run', parallel_tool_calls=True, required_action=None, response_format='auto', started_at=1725912254, status='in_progress', thread_id='thread_mQIZtUmxDI5PwxtyekI70YEY', tool_choice='auto', tools=[CodeInterpreterTool(type='code_interpreter')], truncation_strategy=TruncationStrategy(type='auto', last_messages=None), usage=None, temperature=1.0, top_p=1.0, tool_resources={})\n",
      "Run(id='run_23CWc1QtRHBae341Bt2Xsb5N', assistant_id='asst_U3vmJuHlWzHCO2A4RW1tBh7i', cancelled_at=None, completed_at=None, created_at=1725912254, expires_at=1725912854, failed_at=None, incomplete_details=None, instructions=None, last_error=None, max_completion_tokens=None, max_prompt_tokens=None, metadata={}, model='gpt-4o', object='thread.run', parallel_tool_calls=True, required_action=None, response_format='auto', started_at=1725912254, status='in_progress', thread_id='thread_mQIZtUmxDI5PwxtyekI70YEY', tool_choice='auto', tools=[CodeInterpreterTool(type='code_interpreter')], truncation_strategy=TruncationStrategy(type='auto', last_messages=None), usage=None, temperature=1.0, top_p=1.0, tool_resources={})\n",
      "Run(id='run_23CWc1QtRHBae341Bt2Xsb5N', assistant_id='asst_U3vmJuHlWzHCO2A4RW1tBh7i', cancelled_at=None, completed_at=1725912259, created_at=1725912254, expires_at=None, failed_at=None, incomplete_details=None, instructions=None, last_error=None, max_completion_tokens=None, max_prompt_tokens=None, metadata={}, model='gpt-4o', object='thread.run', parallel_tool_calls=True, required_action=None, response_format='auto', started_at=1725912254, status='completed', thread_id='thread_mQIZtUmxDI5PwxtyekI70YEY', tool_choice='auto', tools=[CodeInterpreterTool(type='code_interpreter')], truncation_strategy=TruncationStrategy(type='auto', last_messages=None), usage=Usage(completion_tokens=351, prompt_tokens=130, total_tokens=481), temperature=1.0, top_p=1.0, tool_resources={})\n",
      "SyncCursorPage[Message](data=[Message(id='msg_53YZD5af8UkwAbsJ3Z5QKJsP', assistant_id='asst_U3vmJuHlWzHCO2A4RW1tBh7i', attachments=[], completed_at=None, content=[TextContentBlock(text=Text(annotations=[], value=\"Certainly! Here are two alternatives for creating a barplot with a pandas DataFrame:\\n\\n### Alternative 1: Using `pandas.DataFrame.plot` Method\\nPandas has a built-in method for plotting, which can be used to create a barplot directly from a DataFrame.\\n\\nExample:\\n```python\\nimport pandas as pd\\nimport matplotlib.pyplot as plt\\n\\n# Sample DataFrame\\ndata = {'Category': ['A', 'B', 'C', 'D'],\\n        'Values': [23, 45, 56, 78]}\\ndf = pd.DataFrame(data)\\n\\n# Creating a barplot\\ndf.plot(kind='bar', x='Category', y='Values', legend=False)\\n\\n# Displaying the plot\\nplt.xlabel('Category')\\nplt.ylabel('Values')\\nplt.title('Barplot using pandas.plot')\\nplt.show()\\n```\\n\\n### Alternative 2: Using `seaborn.barplot`\\nSeaborn is a statistical data visualization library based on matplotlib that provides a high-level interface for drawing attractive and informative statistical graphics.\\n\\nExample:\\n```python\\nimport pandas as pd\\nimport seaborn as sns\\nimport matplotlib.pyplot as plt\\n\\n# Sample DataFrame\\ndata = {'Category': ['A', 'B', 'C', 'D'],\\n        'Values': [23, 45, 56, 78]}\\ndf = pd.DataFrame(data)\\n\\n# Creating a barplot\\nsns.barplot(x='Category', y='Values', data=df)\\n\\n# Displaying the plot\\nplt.xlabel('Category')\\nplt.ylabel('Values')\\nplt.title('Barplot using seaborn')\\nplt.show()\\n```\\n\\nThese are two different methods to achieve similar results, each with its own set of features and customizability.\"), type='text')], created_at=1725912255, incomplete_at=None, incomplete_details=None, metadata={}, object='thread.message', role='assistant', run_id='run_23CWc1QtRHBae341Bt2Xsb5N', status=None, thread_id='thread_mQIZtUmxDI5PwxtyekI70YEY'), Message(id='msg_2r8oOqrYpeNYaN5jZISwKrtP', assistant_id=None, attachments=[], completed_at=None, content=[TextContentBlock(text=Text(annotations=[], value='Give 2 alternatives for creating a barplot with a pandas DataFrame.'), type='text')], created_at=1725912254, incomplete_at=None, incomplete_details=None, metadata={}, object='thread.message', role='user', run_id=None, status=None, thread_id='thread_mQIZtUmxDI5PwxtyekI70YEY')], object='list', first_id='msg_53YZD5af8UkwAbsJ3Z5QKJsP', last_id='msg_2r8oOqrYpeNYaN5jZISwKrtP', has_more=False)\n"
     ]
    }
   ],
   "source": [
    "while True:\n",
    "    out = client.beta.threads.runs.retrieve(\n",
    "    thread_id=thread.id,\n",
    "    run_id=run.id)\n",
    "    print(out)\n",
    "    if out.status != \"completed\":\n",
    "        continue\n",
    "    else:\n",
    "        print(client.beta.threads.messages.list(\n",
    "  thread_id=thread.id))\n",
    "        break"
   ]
  },
  {
   "cell_type": "code",
   "execution_count": 6,
   "metadata": {},
   "outputs": [
    {
     "name": "stdout",
     "output_type": "stream",
     "text": [
      "Assistant response: [TextContentBlock(text=Text(annotations=[], value=\"Certainly! Here are two alternatives for creating a barplot with a pandas DataFrame:\\n\\n### Alternative 1: Using `pandas.DataFrame.plot` Method\\nPandas has a built-in method for plotting, which can be used to create a barplot directly from a DataFrame.\\n\\nExample:\\n```python\\nimport pandas as pd\\nimport matplotlib.pyplot as plt\\n\\n# Sample DataFrame\\ndata = {'Category': ['A', 'B', 'C', 'D'],\\n        'Values': [23, 45, 56, 78]}\\ndf = pd.DataFrame(data)\\n\\n# Creating a barplot\\ndf.plot(kind='bar', x='Category', y='Values', legend=False)\\n\\n# Displaying the plot\\nplt.xlabel('Category')\\nplt.ylabel('Values')\\nplt.title('Barplot using pandas.plot')\\nplt.show()\\n```\\n\\n### Alternative 2: Using `seaborn.barplot`\\nSeaborn is a statistical data visualization library based on matplotlib that provides a high-level interface for drawing attractive and informative statistical graphics.\\n\\nExample:\\n```python\\nimport pandas as pd\\nimport seaborn as sns\\nimport matplotlib.pyplot as plt\\n\\n# Sample DataFrame\\ndata = {'Category': ['A', 'B', 'C', 'D'],\\n        'Values': [23, 45, 56, 78]}\\ndf = pd.DataFrame(data)\\n\\n# Creating a barplot\\nsns.barplot(x='Category', y='Values', data=df)\\n\\n# Displaying the plot\\nplt.xlabel('Category')\\nplt.ylabel('Values')\\nplt.title('Barplot using seaborn')\\nplt.show()\\n```\\n\\nThese are two different methods to achieve similar results, each with its own set of features and customizability.\"), type='text')]\n",
      "\n"
     ]
    }
   ],
   "source": [
    "# Retrieve the assistant's response message\n",
    "response_message = None\n",
    "messages = client.beta.threads.messages.list(thread_id=thread.id).data\n",
    "for message in messages:\n",
    "    if message.role == \"assistant\":\n",
    "        response_message = message\n",
    "        break\n",
    "\n",
    "if response_message:\n",
    "    print(f\"Assistant response: {response_message.content}\\n\")\n",
    "else:\n",
    "    print(\"No assistant response found.\\n\")"
   ]
  },
  {
   "cell_type": "markdown",
   "metadata": {},
   "source": [
    "### Editing a message"
   ]
  },
  {
   "cell_type": "code",
   "execution_count": 7,
   "metadata": {},
   "outputs": [
    {
     "data": {
      "text/plain": [
       "[Message(id='msg_53YZD5af8UkwAbsJ3Z5QKJsP', assistant_id='asst_U3vmJuHlWzHCO2A4RW1tBh7i', attachments=[], completed_at=None, content=[TextContentBlock(text=Text(annotations=[], value=\"Certainly! Here are two alternatives for creating a barplot with a pandas DataFrame:\\n\\n### Alternative 1: Using `pandas.DataFrame.plot` Method\\nPandas has a built-in method for plotting, which can be used to create a barplot directly from a DataFrame.\\n\\nExample:\\n```python\\nimport pandas as pd\\nimport matplotlib.pyplot as plt\\n\\n# Sample DataFrame\\ndata = {'Category': ['A', 'B', 'C', 'D'],\\n        'Values': [23, 45, 56, 78]}\\ndf = pd.DataFrame(data)\\n\\n# Creating a barplot\\ndf.plot(kind='bar', x='Category', y='Values', legend=False)\\n\\n# Displaying the plot\\nplt.xlabel('Category')\\nplt.ylabel('Values')\\nplt.title('Barplot using pandas.plot')\\nplt.show()\\n```\\n\\n### Alternative 2: Using `seaborn.barplot`\\nSeaborn is a statistical data visualization library based on matplotlib that provides a high-level interface for drawing attractive and informative statistical graphics.\\n\\nExample:\\n```python\\nimport pandas as pd\\nimport seaborn as sns\\nimport matplotlib.pyplot as plt\\n\\n# Sample DataFrame\\ndata = {'Category': ['A', 'B', 'C', 'D'],\\n        'Values': [23, 45, 56, 78]}\\ndf = pd.DataFrame(data)\\n\\n# Creating a barplot\\nsns.barplot(x='Category', y='Values', data=df)\\n\\n# Displaying the plot\\nplt.xlabel('Category')\\nplt.ylabel('Values')\\nplt.title('Barplot using seaborn')\\nplt.show()\\n```\\n\\nThese are two different methods to achieve similar results, each with its own set of features and customizability.\"), type='text')], created_at=1725912255, incomplete_at=None, incomplete_details=None, metadata={}, object='thread.message', role='assistant', run_id='run_23CWc1QtRHBae341Bt2Xsb5N', status=None, thread_id='thread_mQIZtUmxDI5PwxtyekI70YEY'),\n",
       " Message(id='msg_2r8oOqrYpeNYaN5jZISwKrtP', assistant_id=None, attachments=[], completed_at=None, content=[TextContentBlock(text=Text(annotations=[], value='Give 2 alternatives for creating a barplot with a pandas DataFrame.'), type='text')], created_at=1725912254, incomplete_at=None, incomplete_details=None, metadata={}, object='thread.message', role='user', run_id=None, status=None, thread_id='thread_mQIZtUmxDI5PwxtyekI70YEY')]"
      ]
     },
     "execution_count": 7,
     "metadata": {},
     "output_type": "execute_result"
    }
   ],
   "source": [
    "messages"
   ]
  },
  {
   "cell_type": "code",
   "execution_count": 8,
   "metadata": {},
   "outputs": [],
   "source": [
    "message_id = 'msg_VJB9LJqZAYptDvL966hf1TLX'\n",
    "thread_id='thread_RXJcc3OidGu3gMYID1VahRtc'"
   ]
  },
  {
   "cell_type": "code",
   "execution_count": 9,
   "metadata": {},
   "outputs": [
    {
     "name": "stdout",
     "output_type": "stream",
     "text": [
      "Message(id='msg_VJB9LJqZAYptDvL966hf1TLX', assistant_id=None, attachments=None, completed_at=None, content=[TextContentBlock(text=Text(annotations=[], value='Give 2 alternatives for creating a barplot with a pandas DataFrame.'), type='text')], created_at=1725901503, incomplete_at=None, incomplete_details=None, metadata={'modified': 'true', 'user': 'Morgana', 'content': 'LOve coffee'}, object='thread.message', role='user', run_id=None, status=None, thread_id='thread_RXJcc3OidGu3gMYID1VahRtc', file_ids=[])\n"
     ]
    }
   ],
   "source": [
    "message = client.beta.threads.messages.update(\n",
    "  message_id=message_id,\n",
    "  thread_id=thread_id,\n",
    "  metadata={\n",
    "    \"modified\": \"true\",\n",
    "    \"user\": \"Morgana\",\n",
    "    \"content\": \"LOve coffee\"\n",
    "  },\n",
    ")\n",
    "\n",
    "print(message)"
   ]
  },
  {
   "cell_type": "markdown",
   "metadata": {},
   "source": [
    "### Recreating a list of messages in a new thread"
   ]
  },
  {
   "cell_type": "code",
   "execution_count": 10,
   "metadata": {},
   "outputs": [],
   "source": [
    "## Assistant\n",
    "assistant = client.beta.assistants.create(\n",
    "  name=\"Baker\",\n",
    "  description=\"You're a famous baker in Bakecity. You're always gentle and show all of your receipes and hints for the best food!\",\n",
    "  model=\"gpt-4o\"\n",
    ")"
   ]
  },
  {
   "cell_type": "code",
   "execution_count": 14,
   "metadata": {},
   "outputs": [],
   "source": [
    "## Thread\n",
    "first_thread = client.beta.threads.create(\n",
    "  messages=[\n",
    "    {\n",
    "      \"role\": \"user\",\n",
    "      \"content\": \"Its my first time making a chocolate cake. What do you suggest?\",\n",
    "    }\n",
    "  ]\n",
    ")"
   ]
  },
  {
   "cell_type": "code",
   "execution_count": 15,
   "metadata": {},
   "outputs": [],
   "source": [
    "run = client.beta.threads.runs.create(\n",
    "  thread_id=first_thread.id,\n",
    "  assistant_id=assistant.id\n",
    ")"
   ]
  },
  {
   "cell_type": "code",
   "execution_count": 18,
   "metadata": {},
   "outputs": [
    {
     "name": "stdout",
     "output_type": "stream",
     "text": [
      "STATUS: completed\n"
     ]
    }
   ],
   "source": [
    "while True:\n",
    "    out = client.beta.threads.runs.retrieve(\n",
    "    thread_id=first_thread.id,\n",
    "    run_id=run.id)\n",
    "    print(f\"STATUS: {out.status}\")\n",
    "    if out.status != \"completed\":\n",
    "        continue\n",
    "    else:\n",
    "        break"
   ]
  },
  {
   "cell_type": "code",
   "execution_count": 19,
   "metadata": {},
   "outputs": [
    {
     "name": "stdout",
     "output_type": "stream",
     "text": [
      "Assistant response: [TextContentBlock(text=Text(annotations=[], value=\"Making a chocolate cake for the first time is a delightful experience! Here’s a straightforward and delicious recipe to help you create a delectable chocolate cake:\\n\\n### Classic Chocolate Cake Recipe\\n\\n**Ingredients:**\\n\\n#### For the Cake:\\n- 1 & 3/4 cups (220g) all-purpose flour\\n- 2 cups (400g) granulated sugar\\n- 3/4 cup (65g) unsweetened cocoa powder\\n- 1 & 1/2 tsp baking powder\\n- 1 & 1/2 tsp baking soda\\n- 1 tsp salt\\n- 2 large eggs\\n- 1 cup (240ml) whole milk\\n- 1/2 cup (120ml) vegetable oil\\n- 2 tsp vanilla extract\\n- 1 cup (240ml) boiling water\\n\\n#### For the Frosting:\\n- 1 cup (230g) unsalted butter, softened\\n- 3 & 1/2 cups (440g) powdered sugar\\n- 1/2 cup (45g) unsweetened cocoa powder\\n- 1/2 cup (120ml) whole milk\\n- 2 tsp vanilla extract\\n\\n**Instructions:**\\n\\n### Preparing the Cake:\\n\\n1. **Preheat Your Oven:**\\n   Preheat your oven to 350°F (175°C) and grease and flour two 9-inch round baking pans.\\n\\n2. **Mix Dry Ingredients:**\\n   In a large bowl, sift together the flour, sugar, cocoa powder, baking powder, baking soda, and salt.\\n\\n3. **Mix Wet Ingredients:**\\n   Add the eggs, milk, oil, and vanilla extract to the dry ingredients and beat on medium speed until well combined. This can be done using a stand mixer, a hand mixer, or even by hand with a whisk.\\n\\n4. **Add Boiling Water:**\\n   Carefully stir in the boiling water. The batter will be very thin, but that's okay.\\n\\n5. **Bake:**\\n   Divide the batter evenly between the prepared pans. Bake for 30-35 minutes, or until a toothpick inserted into the center comes out clean.\\n\\n6. **Cool:**\\n   Remove from the oven and allow the cakes to cool in the pans for about 10 minutes. Then, transfer to a wire rack to cool completely.\\n\\n### Preparing the Frosting:\\n\\n1. **Cream Butter:**\\n   In a large mixing bowl, beat the butter on medium speed until creamy.\\n\\n2. **Add Dry Ingredients:**\\n   Gradually add the powdered sugar and cocoa powder, beating on low speed until incorporated.\\n\\n3. **Add Milk and Vanilla:**\\n   Increase to medium speed and add in the milk and vanilla extract, beating until the frosting is smooth and spreadable. If the frosting is too thick, add a little more milk; if it’s too thin, add a bit more powdered sugar.\\n\\n### Assembling the Cake:\\n\\n1. **Layer:**\\n   Place one cake layer on a serving plate and spread a generous amount of frosting on top.\\n\\n2. **Stack:**\\n   Place the second cake layer on top and frost the top and sides of the cake.\\n\\n3. **Decorate:**\\n   Decorate the cake as you like – you can add chocolate shavings, sprinkles, or leave it classic and simple.\\n\\n4. **Serve:**\\n   Slice and enjoy your homemade chocolate cake!\\n\\n### Tips:\\n\\n- **Use Room Temperature Ingredients:** This helps everything mix together more smoothly.\\n- **Measure Accurately:** Especially with the flour – too much can make the cake dense and dry. Spoon the flour into your measuring cup and level it off with a knife.\\n- **Don’t Overmix:** Mix until just combined to avoid a tough cake.\\n- **Bake Evenly:** If you’re concerned about your cakes baking flat and evenly, you can use cake strips around your pans to help with this.\\n\\nEnjoy your baking! Making a chocolate cake is a rewarding process, and the result is always a crowd-pleaser.\"), type='text')]\n",
      "\n"
     ]
    }
   ],
   "source": [
    "# Retrieve the assistant's response message\n",
    "response_message = None\n",
    "messages = client.beta.threads.messages.list(thread_id=first_thread.id).data\n",
    "for message in messages:\n",
    "    if message.role == \"assistant\":\n",
    "        response_message = message\n",
    "        break\n",
    "\n",
    "if response_message:\n",
    "    print(f\"Assistant response: {response_message.content}\\n\")\n",
    "else:\n",
    "    print(\"No assistant response found.\\n\")"
   ]
  },
  {
   "cell_type": "code",
   "execution_count": 20,
   "metadata": {},
   "outputs": [
    {
     "name": "stdout",
     "output_type": "stream",
     "text": [
      "STATUS: in_progress\n",
      "STATUS: in_progress\n",
      "STATUS: in_progress\n",
      "STATUS: in_progress\n",
      "STATUS: in_progress\n",
      "STATUS: in_progress\n",
      "STATUS: in_progress\n",
      "STATUS: in_progress\n",
      "STATUS: in_progress\n",
      "STATUS: in_progress\n",
      "STATUS: in_progress\n",
      "STATUS: in_progress\n",
      "STATUS: in_progress\n",
      "STATUS: completed\n",
      "SyncCursorPage[Message](data=[Message(id='msg_t4RdMnLCYeElfWFS4vWmpcIU', assistant_id='asst_DSEELOH61EDi6RTepRU9ECM4', attachments=[], completed_at=None, content=[TextContentBlock(text=Text(annotations=[], value=\"I'm sorry to hear that your chocolate cake didn’t turn out as expected. There are several factors that can affect the outcome of a cake, so let’s troubleshoot some common issues you might have encountered:\\n\\n1. **Incorrect Measurements:**\\n    - **Too Much Flour:** Did you measure the flour properly? Overpacking the measuring cup can lead to a dense and dry cake.\\n    - **Baking Powder/Soda Issues:** Ensure you're using the correct amounts and that your baking powder or soda is fresh. Old leavening agents can lose their potency.\\n\\n2. **Mixing Problems:**\\n    - **Overmixing the Batter:** Overmixing can develop too much gluten in the flour, leading to a tough and dense cake.\\n    - **Undermixing:** On the other hand, undermixing can leave you with lumps of flour and uneven texture.\\n\\n3. **Temperature Issues:**\\n    - **Incorrect Oven Temperature:** Make sure your oven is properly preheated and at the correct temperature. An oven thermometer can help verify this.\\n    - **Room Temperature Ingredients:** Using cold ingredients, especially eggs and butter, can affect the batter’s consistency and the cake’s final texture. \\n\\n4. **Baking Time:**\\n    - **Overbaking:** Did you bake the cake too long? Overbaking can make the cake dry and crumbly. Make sure to check for doneness with a toothpick.\\n    - **Underbaking:** If the cake is underbaked, it can be soggy and dense. Again, use the toothpick test to ensure it's baked through.\\n\\n5. **Ingredient Quality:**\\n    - **Quality of Cocoa Powder and Chocolate:** Using poor quality or the wrong type of cocoa powder (such as sweetened instead of unsweetened) can change the flavor and consistency.\\n    - **Freshness of Ingredients:** Make sure all your ingredients (eggs, milk, baking powder, etc.) are fresh and not expired.\\n\\n6. **Cake Assembly:**\\n    - If the layers didn't stack well, it could be because they weren’t completely cool or were not level. Make sure to let the cakes cool completely and trim any domed tops if necessary.\\n\\n### Troubleshooting Common Issues:\\n\\n- **Dry Cake:** This may be due to overbaking, too much flour, or insufficient fat (butter/oil).\\n- **Dense Cake:** Overmixing, incorrect flour measurement, or expired leavening agents could be the culprit.\\n- **Soggy/Undercooked Cake:** Not baking long enough, incorrect oven temperature, or too much liquid can cause this issue.\\n- **Bitter or Off Taste:** Check the quality and freshness of your cocoa powder and chocolate, as well as ensuring the right amount of leavening agents were used.\\n\\nIf you can identify where things might have gone wrong, you can adjust your approach for the next time. Baking can be a bit of a science, but with practice, you’ll get better results. Don’t be discouraged; every mistake is an opportunity to learn!\"), type='text')], created_at=1725912357, incomplete_at=None, incomplete_details=None, metadata={}, object='thread.message', role='assistant', run_id='run_mCupd7XiQakAlvpKKcu5rEME', status=None, thread_id='thread_cuEKG6CtLekO6o3FV0QEii8C'), Message(id='msg_x13DVrcNv1d38WxKfCo08kbP', assistant_id=None, attachments=[], completed_at=None, content=[TextContentBlock(text=Text(annotations=[], value='I think my chocolate cake went bad, what could I have done wrong?'), type='text')], created_at=1725912355, incomplete_at=None, incomplete_details=None, metadata={}, object='thread.message', role='user', run_id=None, status=None, thread_id='thread_cuEKG6CtLekO6o3FV0QEii8C'), Message(id='msg_ef0MZom9tvoDzQBqf4H3aeul', assistant_id='asst_DSEELOH61EDi6RTepRU9ECM4', attachments=[], completed_at=None, content=[TextContentBlock(text=Text(annotations=[], value=\"Making a chocolate cake for the first time is a delightful experience! Here’s a straightforward and delicious recipe to help you create a delectable chocolate cake:\\n\\n### Classic Chocolate Cake Recipe\\n\\n**Ingredients:**\\n\\n#### For the Cake:\\n- 1 & 3/4 cups (220g) all-purpose flour\\n- 2 cups (400g) granulated sugar\\n- 3/4 cup (65g) unsweetened cocoa powder\\n- 1 & 1/2 tsp baking powder\\n- 1 & 1/2 tsp baking soda\\n- 1 tsp salt\\n- 2 large eggs\\n- 1 cup (240ml) whole milk\\n- 1/2 cup (120ml) vegetable oil\\n- 2 tsp vanilla extract\\n- 1 cup (240ml) boiling water\\n\\n#### For the Frosting:\\n- 1 cup (230g) unsalted butter, softened\\n- 3 & 1/2 cups (440g) powdered sugar\\n- 1/2 cup (45g) unsweetened cocoa powder\\n- 1/2 cup (120ml) whole milk\\n- 2 tsp vanilla extract\\n\\n**Instructions:**\\n\\n### Preparing the Cake:\\n\\n1. **Preheat Your Oven:**\\n   Preheat your oven to 350°F (175°C) and grease and flour two 9-inch round baking pans.\\n\\n2. **Mix Dry Ingredients:**\\n   In a large bowl, sift together the flour, sugar, cocoa powder, baking powder, baking soda, and salt.\\n\\n3. **Mix Wet Ingredients:**\\n   Add the eggs, milk, oil, and vanilla extract to the dry ingredients and beat on medium speed until well combined. This can be done using a stand mixer, a hand mixer, or even by hand with a whisk.\\n\\n4. **Add Boiling Water:**\\n   Carefully stir in the boiling water. The batter will be very thin, but that's okay.\\n\\n5. **Bake:**\\n   Divide the batter evenly between the prepared pans. Bake for 30-35 minutes, or until a toothpick inserted into the center comes out clean.\\n\\n6. **Cool:**\\n   Remove from the oven and allow the cakes to cool in the pans for about 10 minutes. Then, transfer to a wire rack to cool completely.\\n\\n### Preparing the Frosting:\\n\\n1. **Cream Butter:**\\n   In a large mixing bowl, beat the butter on medium speed until creamy.\\n\\n2. **Add Dry Ingredients:**\\n   Gradually add the powdered sugar and cocoa powder, beating on low speed until incorporated.\\n\\n3. **Add Milk and Vanilla:**\\n   Increase to medium speed and add in the milk and vanilla extract, beating until the frosting is smooth and spreadable. If the frosting is too thick, add a little more milk; if it’s too thin, add a bit more powdered sugar.\\n\\n### Assembling the Cake:\\n\\n1. **Layer:**\\n   Place one cake layer on a serving plate and spread a generous amount of frosting on top.\\n\\n2. **Stack:**\\n   Place the second cake layer on top and frost the top and sides of the cake.\\n\\n3. **Decorate:**\\n   Decorate the cake as you like – you can add chocolate shavings, sprinkles, or leave it classic and simple.\\n\\n4. **Serve:**\\n   Slice and enjoy your homemade chocolate cake!\\n\\n### Tips:\\n\\n- **Use Room Temperature Ingredients:** This helps everything mix together more smoothly.\\n- **Measure Accurately:** Especially with the flour – too much can make the cake dense and dry. Spoon the flour into your measuring cup and level it off with a knife.\\n- **Don’t Overmix:** Mix until just combined to avoid a tough cake.\\n- **Bake Evenly:** If you’re concerned about your cakes baking flat and evenly, you can use cake strips around your pans to help with this.\\n\\nEnjoy your baking! Making a chocolate cake is a rewarding process, and the result is always a crowd-pleaser.\"), type='text')], created_at=1725912297, incomplete_at=None, incomplete_details=None, metadata={}, object='thread.message', role='assistant', run_id='run_tG01yjRhfSJBwbAkfzow7UOF', status=None, thread_id='thread_cuEKG6CtLekO6o3FV0QEii8C'), Message(id='msg_kQxyr0ztAGNmTyJBWHLmkCtX', assistant_id=None, attachments=[], completed_at=None, content=[TextContentBlock(text=Text(annotations=[], value='Its my first time making a chocolate cake. What do you suggest?'), type='text')], created_at=1725912294, incomplete_at=None, incomplete_details=None, metadata={}, object='thread.message', role='user', run_id=None, status=None, thread_id='thread_cuEKG6CtLekO6o3FV0QEii8C')], object='list', first_id='msg_t4RdMnLCYeElfWFS4vWmpcIU', last_id='msg_kQxyr0ztAGNmTyJBWHLmkCtX', has_more=False)\n"
     ]
    }
   ],
   "source": [
    "## Second message\n",
    "thread_message = client.beta.threads.messages.create(\n",
    "  first_thread.id,\n",
    "  role=\"user\",\n",
    "  content=\"I think my chocolate cake went bad, what could I have done wrong?\",\n",
    ")\n",
    "\n",
    "run = client.beta.threads.runs.create(\n",
    "  thread_id=first_thread.id,\n",
    "  assistant_id=assistant.id\n",
    ")\n",
    "\n",
    "while True:\n",
    "    out = client.beta.threads.runs.retrieve(\n",
    "    thread_id=first_thread.id,\n",
    "    run_id=run.id)\n",
    "    print(f\"STATUS: {out.status}\")\n",
    "    if out.status != \"completed\":\n",
    "        continue\n",
    "    else:\n",
    "        print(client.beta.threads.messages.list(\n",
    "  thread_id=first_thread.id))\n",
    "        break"
   ]
  },
  {
   "cell_type": "code",
   "execution_count": 21,
   "metadata": {},
   "outputs": [
    {
     "name": "stdout",
     "output_type": "stream",
     "text": [
      "Assistant response: [TextContentBlock(text=Text(annotations=[], value=\"I'm sorry to hear that your chocolate cake didn’t turn out as expected. There are several factors that can affect the outcome of a cake, so let’s troubleshoot some common issues you might have encountered:\\n\\n1. **Incorrect Measurements:**\\n    - **Too Much Flour:** Did you measure the flour properly? Overpacking the measuring cup can lead to a dense and dry cake.\\n    - **Baking Powder/Soda Issues:** Ensure you're using the correct amounts and that your baking powder or soda is fresh. Old leavening agents can lose their potency.\\n\\n2. **Mixing Problems:**\\n    - **Overmixing the Batter:** Overmixing can develop too much gluten in the flour, leading to a tough and dense cake.\\n    - **Undermixing:** On the other hand, undermixing can leave you with lumps of flour and uneven texture.\\n\\n3. **Temperature Issues:**\\n    - **Incorrect Oven Temperature:** Make sure your oven is properly preheated and at the correct temperature. An oven thermometer can help verify this.\\n    - **Room Temperature Ingredients:** Using cold ingredients, especially eggs and butter, can affect the batter’s consistency and the cake’s final texture. \\n\\n4. **Baking Time:**\\n    - **Overbaking:** Did you bake the cake too long? Overbaking can make the cake dry and crumbly. Make sure to check for doneness with a toothpick.\\n    - **Underbaking:** If the cake is underbaked, it can be soggy and dense. Again, use the toothpick test to ensure it's baked through.\\n\\n5. **Ingredient Quality:**\\n    - **Quality of Cocoa Powder and Chocolate:** Using poor quality or the wrong type of cocoa powder (such as sweetened instead of unsweetened) can change the flavor and consistency.\\n    - **Freshness of Ingredients:** Make sure all your ingredients (eggs, milk, baking powder, etc.) are fresh and not expired.\\n\\n6. **Cake Assembly:**\\n    - If the layers didn't stack well, it could be because they weren’t completely cool or were not level. Make sure to let the cakes cool completely and trim any domed tops if necessary.\\n\\n### Troubleshooting Common Issues:\\n\\n- **Dry Cake:** This may be due to overbaking, too much flour, or insufficient fat (butter/oil).\\n- **Dense Cake:** Overmixing, incorrect flour measurement, or expired leavening agents could be the culprit.\\n- **Soggy/Undercooked Cake:** Not baking long enough, incorrect oven temperature, or too much liquid can cause this issue.\\n- **Bitter or Off Taste:** Check the quality and freshness of your cocoa powder and chocolate, as well as ensuring the right amount of leavening agents were used.\\n\\nIf you can identify where things might have gone wrong, you can adjust your approach for the next time. Baking can be a bit of a science, but with practice, you’ll get better results. Don’t be discouraged; every mistake is an opportunity to learn!\"), type='text')]\n",
      "\n"
     ]
    }
   ],
   "source": [
    "# Retrieve the assistant's response message\n",
    "response_message = None\n",
    "messages = client.beta.threads.messages.list(thread_id=first_thread.id).data\n",
    "for message in messages:\n",
    "    if message.role == \"assistant\":\n",
    "        response_message = message\n",
    "        break\n",
    "\n",
    "if response_message:\n",
    "    print(f\"Assistant response: {response_message.content}\\n\")\n",
    "else:\n",
    "    print(\"No assistant response found.\\n\")"
   ]
  },
  {
   "cell_type": "code",
   "execution_count": 22,
   "metadata": {},
   "outputs": [
    {
     "name": "stdout",
     "output_type": "stream",
     "text": [
      "STATUS: in_progress\n",
      "STATUS: in_progress\n",
      "STATUS: in_progress\n",
      "STATUS: in_progress\n",
      "STATUS: in_progress\n",
      "STATUS: in_progress\n",
      "STATUS: in_progress\n",
      "STATUS: in_progress\n",
      "STATUS: in_progress\n",
      "STATUS: in_progress\n",
      "STATUS: in_progress\n",
      "STATUS: in_progress\n",
      "STATUS: in_progress\n",
      "STATUS: in_progress\n",
      "STATUS: completed\n",
      "SyncCursorPage[Message](data=[Message(id='msg_NCT7M0DaSLkRNT0GXbPkrJbc', assistant_id='asst_DSEELOH61EDi6RTepRU9ECM4', attachments=[], completed_at=None, content=[TextContentBlock(text=Text(annotations=[], value=\"That's fantastic to hear! The spoon-and-level method is indeed a great way to ensure you're measuring your dry ingredients accurately, which can make a big difference in the outcome of your baked goods. Here's a quick reminder of the method for any future baking endeavors:\\n\\n### Spoon-and-Level Method:\\n\\n1. **Fluff the Flour:** Before measuring, use a spoon to fluff up the flour inside the container. This prevents it from being packed down.\\n\\n2. **Spoon the Flour:** Use a spoon to scoop the flour into your measuring cup. Do not directly dip the measuring cup into the flour container, as this can cause the flour to compact and lead to too much flour in your recipe.\\n\\n3. **Level it Off:** Once the flour is heaped in the measuring cup, use the flat edge of a knife or a straight edge to level off the excess flour, ensuring the top is flat and even.\\n\\n### Baking Tips for Continued Success:\\n\\n- **Room Temperature Ingredients:** Continue to bring your ingredients like eggs and butter to room temperature before using. It helps with even mixing and a consistent batter.\\n  \\n- **Oven Temperature:** Always preheat your oven and use an oven thermometer if possible to ensure it's at the correct temperature.\\n  \\n- **Mixing:** Mix your batter until the ingredients are just combined. Overmixing can lead to a tough cake.\\n\\n- **Cooling:** Allow your cakes to cool completely before frosting or assembling.\\n\\nYour attention to detail with the spoon-and-level method shows how small changes can lead to great results. Enjoy your delicious chocolate cake, and happy baking!\"), type='text')], created_at=1725912367, incomplete_at=None, incomplete_details=None, metadata={}, object='thread.message', role='assistant', run_id='run_kSxgLXkJ9UdnD5mNeodnfQqs', status=None, thread_id='thread_cuEKG6CtLekO6o3FV0QEii8C'), Message(id='msg_x8sfugwhUEZmgKJpRByvntlI', assistant_id=None, attachments=[], completed_at=None, content=[TextContentBlock(text=Text(annotations=[], value='This time I used the spoon-and-level method and it worked!'), type='text')], created_at=1725912365, incomplete_at=None, incomplete_details=None, metadata={}, object='thread.message', role='user', run_id=None, status=None, thread_id='thread_cuEKG6CtLekO6o3FV0QEii8C'), Message(id='msg_t4RdMnLCYeElfWFS4vWmpcIU', assistant_id='asst_DSEELOH61EDi6RTepRU9ECM4', attachments=[], completed_at=None, content=[TextContentBlock(text=Text(annotations=[], value=\"I'm sorry to hear that your chocolate cake didn’t turn out as expected. There are several factors that can affect the outcome of a cake, so let’s troubleshoot some common issues you might have encountered:\\n\\n1. **Incorrect Measurements:**\\n    - **Too Much Flour:** Did you measure the flour properly? Overpacking the measuring cup can lead to a dense and dry cake.\\n    - **Baking Powder/Soda Issues:** Ensure you're using the correct amounts and that your baking powder or soda is fresh. Old leavening agents can lose their potency.\\n\\n2. **Mixing Problems:**\\n    - **Overmixing the Batter:** Overmixing can develop too much gluten in the flour, leading to a tough and dense cake.\\n    - **Undermixing:** On the other hand, undermixing can leave you with lumps of flour and uneven texture.\\n\\n3. **Temperature Issues:**\\n    - **Incorrect Oven Temperature:** Make sure your oven is properly preheated and at the correct temperature. An oven thermometer can help verify this.\\n    - **Room Temperature Ingredients:** Using cold ingredients, especially eggs and butter, can affect the batter’s consistency and the cake’s final texture. \\n\\n4. **Baking Time:**\\n    - **Overbaking:** Did you bake the cake too long? Overbaking can make the cake dry and crumbly. Make sure to check for doneness with a toothpick.\\n    - **Underbaking:** If the cake is underbaked, it can be soggy and dense. Again, use the toothpick test to ensure it's baked through.\\n\\n5. **Ingredient Quality:**\\n    - **Quality of Cocoa Powder and Chocolate:** Using poor quality or the wrong type of cocoa powder (such as sweetened instead of unsweetened) can change the flavor and consistency.\\n    - **Freshness of Ingredients:** Make sure all your ingredients (eggs, milk, baking powder, etc.) are fresh and not expired.\\n\\n6. **Cake Assembly:**\\n    - If the layers didn't stack well, it could be because they weren’t completely cool or were not level. Make sure to let the cakes cool completely and trim any domed tops if necessary.\\n\\n### Troubleshooting Common Issues:\\n\\n- **Dry Cake:** This may be due to overbaking, too much flour, or insufficient fat (butter/oil).\\n- **Dense Cake:** Overmixing, incorrect flour measurement, or expired leavening agents could be the culprit.\\n- **Soggy/Undercooked Cake:** Not baking long enough, incorrect oven temperature, or too much liquid can cause this issue.\\n- **Bitter or Off Taste:** Check the quality and freshness of your cocoa powder and chocolate, as well as ensuring the right amount of leavening agents were used.\\n\\nIf you can identify where things might have gone wrong, you can adjust your approach for the next time. Baking can be a bit of a science, but with practice, you’ll get better results. Don’t be discouraged; every mistake is an opportunity to learn!\"), type='text')], created_at=1725912357, incomplete_at=None, incomplete_details=None, metadata={}, object='thread.message', role='assistant', run_id='run_mCupd7XiQakAlvpKKcu5rEME', status=None, thread_id='thread_cuEKG6CtLekO6o3FV0QEii8C'), Message(id='msg_x13DVrcNv1d38WxKfCo08kbP', assistant_id=None, attachments=[], completed_at=None, content=[TextContentBlock(text=Text(annotations=[], value='I think my chocolate cake went bad, what could I have done wrong?'), type='text')], created_at=1725912355, incomplete_at=None, incomplete_details=None, metadata={}, object='thread.message', role='user', run_id=None, status=None, thread_id='thread_cuEKG6CtLekO6o3FV0QEii8C'), Message(id='msg_ef0MZom9tvoDzQBqf4H3aeul', assistant_id='asst_DSEELOH61EDi6RTepRU9ECM4', attachments=[], completed_at=None, content=[TextContentBlock(text=Text(annotations=[], value=\"Making a chocolate cake for the first time is a delightful experience! Here’s a straightforward and delicious recipe to help you create a delectable chocolate cake:\\n\\n### Classic Chocolate Cake Recipe\\n\\n**Ingredients:**\\n\\n#### For the Cake:\\n- 1 & 3/4 cups (220g) all-purpose flour\\n- 2 cups (400g) granulated sugar\\n- 3/4 cup (65g) unsweetened cocoa powder\\n- 1 & 1/2 tsp baking powder\\n- 1 & 1/2 tsp baking soda\\n- 1 tsp salt\\n- 2 large eggs\\n- 1 cup (240ml) whole milk\\n- 1/2 cup (120ml) vegetable oil\\n- 2 tsp vanilla extract\\n- 1 cup (240ml) boiling water\\n\\n#### For the Frosting:\\n- 1 cup (230g) unsalted butter, softened\\n- 3 & 1/2 cups (440g) powdered sugar\\n- 1/2 cup (45g) unsweetened cocoa powder\\n- 1/2 cup (120ml) whole milk\\n- 2 tsp vanilla extract\\n\\n**Instructions:**\\n\\n### Preparing the Cake:\\n\\n1. **Preheat Your Oven:**\\n   Preheat your oven to 350°F (175°C) and grease and flour two 9-inch round baking pans.\\n\\n2. **Mix Dry Ingredients:**\\n   In a large bowl, sift together the flour, sugar, cocoa powder, baking powder, baking soda, and salt.\\n\\n3. **Mix Wet Ingredients:**\\n   Add the eggs, milk, oil, and vanilla extract to the dry ingredients and beat on medium speed until well combined. This can be done using a stand mixer, a hand mixer, or even by hand with a whisk.\\n\\n4. **Add Boiling Water:**\\n   Carefully stir in the boiling water. The batter will be very thin, but that's okay.\\n\\n5. **Bake:**\\n   Divide the batter evenly between the prepared pans. Bake for 30-35 minutes, or until a toothpick inserted into the center comes out clean.\\n\\n6. **Cool:**\\n   Remove from the oven and allow the cakes to cool in the pans for about 10 minutes. Then, transfer to a wire rack to cool completely.\\n\\n### Preparing the Frosting:\\n\\n1. **Cream Butter:**\\n   In a large mixing bowl, beat the butter on medium speed until creamy.\\n\\n2. **Add Dry Ingredients:**\\n   Gradually add the powdered sugar and cocoa powder, beating on low speed until incorporated.\\n\\n3. **Add Milk and Vanilla:**\\n   Increase to medium speed and add in the milk and vanilla extract, beating until the frosting is smooth and spreadable. If the frosting is too thick, add a little more milk; if it’s too thin, add a bit more powdered sugar.\\n\\n### Assembling the Cake:\\n\\n1. **Layer:**\\n   Place one cake layer on a serving plate and spread a generous amount of frosting on top.\\n\\n2. **Stack:**\\n   Place the second cake layer on top and frost the top and sides of the cake.\\n\\n3. **Decorate:**\\n   Decorate the cake as you like – you can add chocolate shavings, sprinkles, or leave it classic and simple.\\n\\n4. **Serve:**\\n   Slice and enjoy your homemade chocolate cake!\\n\\n### Tips:\\n\\n- **Use Room Temperature Ingredients:** This helps everything mix together more smoothly.\\n- **Measure Accurately:** Especially with the flour – too much can make the cake dense and dry. Spoon the flour into your measuring cup and level it off with a knife.\\n- **Don’t Overmix:** Mix until just combined to avoid a tough cake.\\n- **Bake Evenly:** If you’re concerned about your cakes baking flat and evenly, you can use cake strips around your pans to help with this.\\n\\nEnjoy your baking! Making a chocolate cake is a rewarding process, and the result is always a crowd-pleaser.\"), type='text')], created_at=1725912297, incomplete_at=None, incomplete_details=None, metadata={}, object='thread.message', role='assistant', run_id='run_tG01yjRhfSJBwbAkfzow7UOF', status=None, thread_id='thread_cuEKG6CtLekO6o3FV0QEii8C'), Message(id='msg_kQxyr0ztAGNmTyJBWHLmkCtX', assistant_id=None, attachments=[], completed_at=None, content=[TextContentBlock(text=Text(annotations=[], value='Its my first time making a chocolate cake. What do you suggest?'), type='text')], created_at=1725912294, incomplete_at=None, incomplete_details=None, metadata={}, object='thread.message', role='user', run_id=None, status=None, thread_id='thread_cuEKG6CtLekO6o3FV0QEii8C')], object='list', first_id='msg_NCT7M0DaSLkRNT0GXbPkrJbc', last_id='msg_kQxyr0ztAGNmTyJBWHLmkCtX', has_more=False)\n"
     ]
    }
   ],
   "source": [
    "### Third message\n",
    "\n",
    "thread_message = client.beta.threads.messages.create(\n",
    "  first_thread.id,\n",
    "  role=\"user\",\n",
    "  content=\"This time I used the spoon-and-level method and it worked!\",\n",
    ")\n",
    "\n",
    "run = client.beta.threads.runs.create(\n",
    "  thread_id=first_thread.id,\n",
    "  assistant_id=assistant.id\n",
    ")\n",
    "\n",
    "while True:\n",
    "    out = client.beta.threads.runs.retrieve(\n",
    "    thread_id=first_thread.id,\n",
    "    run_id=run.id)\n",
    "    print(f\"STATUS: {out.status}\")\n",
    "    if out.status != \"completed\":\n",
    "        continue\n",
    "    else:\n",
    "        print(client.beta.threads.messages.list(\n",
    "  thread_id=first_thread.id))\n",
    "        break"
   ]
  },
  {
   "cell_type": "code",
   "execution_count": 23,
   "metadata": {},
   "outputs": [
    {
     "name": "stdout",
     "output_type": "stream",
     "text": [
      "Assistant response: [TextContentBlock(text=Text(annotations=[], value=\"That's fantastic to hear! The spoon-and-level method is indeed a great way to ensure you're measuring your dry ingredients accurately, which can make a big difference in the outcome of your baked goods. Here's a quick reminder of the method for any future baking endeavors:\\n\\n### Spoon-and-Level Method:\\n\\n1. **Fluff the Flour:** Before measuring, use a spoon to fluff up the flour inside the container. This prevents it from being packed down.\\n\\n2. **Spoon the Flour:** Use a spoon to scoop the flour into your measuring cup. Do not directly dip the measuring cup into the flour container, as this can cause the flour to compact and lead to too much flour in your recipe.\\n\\n3. **Level it Off:** Once the flour is heaped in the measuring cup, use the flat edge of a knife or a straight edge to level off the excess flour, ensuring the top is flat and even.\\n\\n### Baking Tips for Continued Success:\\n\\n- **Room Temperature Ingredients:** Continue to bring your ingredients like eggs and butter to room temperature before using. It helps with even mixing and a consistent batter.\\n  \\n- **Oven Temperature:** Always preheat your oven and use an oven thermometer if possible to ensure it's at the correct temperature.\\n  \\n- **Mixing:** Mix your batter until the ingredients are just combined. Overmixing can lead to a tough cake.\\n\\n- **Cooling:** Allow your cakes to cool completely before frosting or assembling.\\n\\nYour attention to detail with the spoon-and-level method shows how small changes can lead to great results. Enjoy your delicious chocolate cake, and happy baking!\"), type='text')]\n",
      "\n"
     ]
    }
   ],
   "source": [
    "# Retrieve the assistant's response message\n",
    "response_message = None\n",
    "messages = client.beta.threads.messages.list(thread_id=first_thread.id).data\n",
    "for message in messages:\n",
    "    if message.role == \"assistant\":\n",
    "        response_message = message\n",
    "        break\n",
    "\n",
    "if response_message:\n",
    "    print(f\"Assistant response: {response_message.content}\\n\")\n",
    "else:\n",
    "    print(\"No assistant response found.\\n\")"
   ]
  },
  {
   "cell_type": "markdown",
   "metadata": {},
   "source": [
    "#### New thread"
   ]
  },
  {
   "cell_type": "code",
   "execution_count": 24,
   "metadata": {},
   "outputs": [],
   "source": [
    "old_messages = []"
   ]
  },
  {
   "cell_type": "code",
   "execution_count": 25,
   "metadata": {},
   "outputs": [],
   "source": [
    "for obj in messages:\n",
    "    old_messages.append(obj.id)"
   ]
  },
  {
   "cell_type": "code",
   "execution_count": 26,
   "metadata": {},
   "outputs": [
    {
     "data": {
      "text/plain": [
       "['msg_NCT7M0DaSLkRNT0GXbPkrJbc',\n",
       " 'msg_x8sfugwhUEZmgKJpRByvntlI',\n",
       " 'msg_t4RdMnLCYeElfWFS4vWmpcIU',\n",
       " 'msg_x13DVrcNv1d38WxKfCo08kbP',\n",
       " 'msg_ef0MZom9tvoDzQBqf4H3aeul',\n",
       " 'msg_kQxyr0ztAGNmTyJBWHLmkCtX']"
      ]
     },
     "execution_count": 26,
     "metadata": {},
     "output_type": "execute_result"
    }
   ],
   "source": [
    "old_messages"
   ]
  },
  {
   "cell_type": "code",
   "execution_count": 27,
   "metadata": {},
   "outputs": [
    {
     "data": {
      "text/plain": [
       "\"That's fantastic to hear! The spoon-and-level method is indeed a great way to ensure you're measuring your dry ingredients accurately, which can make a big difference in the outcome of your baked goods. Here's a quick reminder of the method for any future baking endeavors:\\n\\n### Spoon-and-Level Method:\\n\\n1. **Fluff the Flour:** Before measuring, use a spoon to fluff up the flour inside the container. This prevents it from being packed down.\\n\\n2. **Spoon the Flour:** Use a spoon to scoop the flour into your measuring cup. Do not directly dip the measuring cup into the flour container, as this can cause the flour to compact and lead to too much flour in your recipe.\\n\\n3. **Level it Off:** Once the flour is heaped in the measuring cup, use the flat edge of a knife or a straight edge to level off the excess flour, ensuring the top is flat and even.\\n\\n### Baking Tips for Continued Success:\\n\\n- **Room Temperature Ingredients:** Continue to bring your ingredients like eggs and butter to room temperature before using. It helps with even mixing and a consistent batter.\\n  \\n- **Oven Temperature:** Always preheat your oven and use an oven thermometer if possible to ensure it's at the correct temperature.\\n  \\n- **Mixing:** Mix your batter until the ingredients are just combined. Overmixing can lead to a tough cake.\\n\\n- **Cooling:** Allow your cakes to cool completely before frosting or assembling.\\n\\nYour attention to detail with the spoon-and-level method shows how small changes can lead to great results. Enjoy your delicious chocolate cake, and happy baking!\""
      ]
     },
     "execution_count": 27,
     "metadata": {},
     "output_type": "execute_result"
    }
   ],
   "source": [
    "client.beta.threads.messages.retrieve(\n",
    "  message_id=old_messages[0],\n",
    "  thread_id=first_thread.id,\n",
    ").to_dict()['content'][0]['text']['value']"
   ]
  },
  {
   "cell_type": "code",
   "execution_count": 28,
   "metadata": {},
   "outputs": [
    {
     "data": {
      "text/plain": [
       "[{'role': 'assistant',\n",
       "  'content': \"That's fantastic to hear! The spoon-and-level method is indeed a great way to ensure you're measuring your dry ingredients accurately, which can make a big difference in the outcome of your baked goods. Here's a quick reminder of the method for any future baking endeavors:\\n\\n### Spoon-and-Level Method:\\n\\n1. **Fluff the Flour:** Before measuring, use a spoon to fluff up the flour inside the container. This prevents it from being packed down.\\n\\n2. **Spoon the Flour:** Use a spoon to scoop the flour into your measuring cup. Do not directly dip the measuring cup into the flour container, as this can cause the flour to compact and lead to too much flour in your recipe.\\n\\n3. **Level it Off:** Once the flour is heaped in the measuring cup, use the flat edge of a knife or a straight edge to level off the excess flour, ensuring the top is flat and even.\\n\\n### Baking Tips for Continued Success:\\n\\n- **Room Temperature Ingredients:** Continue to bring your ingredients like eggs and butter to room temperature before using. It helps with even mixing and a consistent batter.\\n  \\n- **Oven Temperature:** Always preheat your oven and use an oven thermometer if possible to ensure it's at the correct temperature.\\n  \\n- **Mixing:** Mix your batter until the ingredients are just combined. Overmixing can lead to a tough cake.\\n\\n- **Cooling:** Allow your cakes to cool completely before frosting or assembling.\\n\\nYour attention to detail with the spoon-and-level method shows how small changes can lead to great results. Enjoy your delicious chocolate cake, and happy baking!\"},\n",
       " {'role': 'user',\n",
       "  'content': 'This time I used the spoon-and-level method and it worked!'},\n",
       " {'role': 'assistant',\n",
       "  'content': \"I'm sorry to hear that your chocolate cake didn’t turn out as expected. There are several factors that can affect the outcome of a cake, so let’s troubleshoot some common issues you might have encountered:\\n\\n1. **Incorrect Measurements:**\\n    - **Too Much Flour:** Did you measure the flour properly? Overpacking the measuring cup can lead to a dense and dry cake.\\n    - **Baking Powder/Soda Issues:** Ensure you're using the correct amounts and that your baking powder or soda is fresh. Old leavening agents can lose their potency.\\n\\n2. **Mixing Problems:**\\n    - **Overmixing the Batter:** Overmixing can develop too much gluten in the flour, leading to a tough and dense cake.\\n    - **Undermixing:** On the other hand, undermixing can leave you with lumps of flour and uneven texture.\\n\\n3. **Temperature Issues:**\\n    - **Incorrect Oven Temperature:** Make sure your oven is properly preheated and at the correct temperature. An oven thermometer can help verify this.\\n    - **Room Temperature Ingredients:** Using cold ingredients, especially eggs and butter, can affect the batter’s consistency and the cake’s final texture. \\n\\n4. **Baking Time:**\\n    - **Overbaking:** Did you bake the cake too long? Overbaking can make the cake dry and crumbly. Make sure to check for doneness with a toothpick.\\n    - **Underbaking:** If the cake is underbaked, it can be soggy and dense. Again, use the toothpick test to ensure it's baked through.\\n\\n5. **Ingredient Quality:**\\n    - **Quality of Cocoa Powder and Chocolate:** Using poor quality or the wrong type of cocoa powder (such as sweetened instead of unsweetened) can change the flavor and consistency.\\n    - **Freshness of Ingredients:** Make sure all your ingredients (eggs, milk, baking powder, etc.) are fresh and not expired.\\n\\n6. **Cake Assembly:**\\n    - If the layers didn't stack well, it could be because they weren’t completely cool or were not level. Make sure to let the cakes cool completely and trim any domed tops if necessary.\\n\\n### Troubleshooting Common Issues:\\n\\n- **Dry Cake:** This may be due to overbaking, too much flour, or insufficient fat (butter/oil).\\n- **Dense Cake:** Overmixing, incorrect flour measurement, or expired leavening agents could be the culprit.\\n- **Soggy/Undercooked Cake:** Not baking long enough, incorrect oven temperature, or too much liquid can cause this issue.\\n- **Bitter or Off Taste:** Check the quality and freshness of your cocoa powder and chocolate, as well as ensuring the right amount of leavening agents were used.\\n\\nIf you can identify where things might have gone wrong, you can adjust your approach for the next time. Baking can be a bit of a science, but with practice, you’ll get better results. Don’t be discouraged; every mistake is an opportunity to learn!\"},\n",
       " {'role': 'user',\n",
       "  'content': 'I think my chocolate cake went bad, what could I have done wrong?'},\n",
       " {'role': 'assistant',\n",
       "  'content': \"Making a chocolate cake for the first time is a delightful experience! Here’s a straightforward and delicious recipe to help you create a delectable chocolate cake:\\n\\n### Classic Chocolate Cake Recipe\\n\\n**Ingredients:**\\n\\n#### For the Cake:\\n- 1 & 3/4 cups (220g) all-purpose flour\\n- 2 cups (400g) granulated sugar\\n- 3/4 cup (65g) unsweetened cocoa powder\\n- 1 & 1/2 tsp baking powder\\n- 1 & 1/2 tsp baking soda\\n- 1 tsp salt\\n- 2 large eggs\\n- 1 cup (240ml) whole milk\\n- 1/2 cup (120ml) vegetable oil\\n- 2 tsp vanilla extract\\n- 1 cup (240ml) boiling water\\n\\n#### For the Frosting:\\n- 1 cup (230g) unsalted butter, softened\\n- 3 & 1/2 cups (440g) powdered sugar\\n- 1/2 cup (45g) unsweetened cocoa powder\\n- 1/2 cup (120ml) whole milk\\n- 2 tsp vanilla extract\\n\\n**Instructions:**\\n\\n### Preparing the Cake:\\n\\n1. **Preheat Your Oven:**\\n   Preheat your oven to 350°F (175°C) and grease and flour two 9-inch round baking pans.\\n\\n2. **Mix Dry Ingredients:**\\n   In a large bowl, sift together the flour, sugar, cocoa powder, baking powder, baking soda, and salt.\\n\\n3. **Mix Wet Ingredients:**\\n   Add the eggs, milk, oil, and vanilla extract to the dry ingredients and beat on medium speed until well combined. This can be done using a stand mixer, a hand mixer, or even by hand with a whisk.\\n\\n4. **Add Boiling Water:**\\n   Carefully stir in the boiling water. The batter will be very thin, but that's okay.\\n\\n5. **Bake:**\\n   Divide the batter evenly between the prepared pans. Bake for 30-35 minutes, or until a toothpick inserted into the center comes out clean.\\n\\n6. **Cool:**\\n   Remove from the oven and allow the cakes to cool in the pans for about 10 minutes. Then, transfer to a wire rack to cool completely.\\n\\n### Preparing the Frosting:\\n\\n1. **Cream Butter:**\\n   In a large mixing bowl, beat the butter on medium speed until creamy.\\n\\n2. **Add Dry Ingredients:**\\n   Gradually add the powdered sugar and cocoa powder, beating on low speed until incorporated.\\n\\n3. **Add Milk and Vanilla:**\\n   Increase to medium speed and add in the milk and vanilla extract, beating until the frosting is smooth and spreadable. If the frosting is too thick, add a little more milk; if it’s too thin, add a bit more powdered sugar.\\n\\n### Assembling the Cake:\\n\\n1. **Layer:**\\n   Place one cake layer on a serving plate and spread a generous amount of frosting on top.\\n\\n2. **Stack:**\\n   Place the second cake layer on top and frost the top and sides of the cake.\\n\\n3. **Decorate:**\\n   Decorate the cake as you like – you can add chocolate shavings, sprinkles, or leave it classic and simple.\\n\\n4. **Serve:**\\n   Slice and enjoy your homemade chocolate cake!\\n\\n### Tips:\\n\\n- **Use Room Temperature Ingredients:** This helps everything mix together more smoothly.\\n- **Measure Accurately:** Especially with the flour – too much can make the cake dense and dry. Spoon the flour into your measuring cup and level it off with a knife.\\n- **Don’t Overmix:** Mix until just combined to avoid a tough cake.\\n- **Bake Evenly:** If you’re concerned about your cakes baking flat and evenly, you can use cake strips around your pans to help with this.\\n\\nEnjoy your baking! Making a chocolate cake is a rewarding process, and the result is always a crowd-pleaser.\"},\n",
       " {'role': 'user',\n",
       "  'content': 'Its my first time making a chocolate cake. What do you suggest?'}]"
      ]
     },
     "execution_count": 28,
     "metadata": {},
     "output_type": "execute_result"
    }
   ],
   "source": [
    "context_messages = []\n",
    "\n",
    "for old_msg_id in old_messages:\n",
    "    temp_json_msg = client.beta.threads.messages.retrieve(\n",
    "        message_id=old_msg_id,\n",
    "        thread_id=first_thread.id\n",
    "    ).to_dict()\n",
    "\n",
    "    temp_new_json = {}\n",
    "\n",
    "    temp_new_json['role'] = temp_json_msg['role']\n",
    "    temp_new_json['content'] = temp_json_msg['content'][0]['text']['value']\n",
    "\n",
    "    context_messages.append(temp_new_json)\n",
    "\n",
    "context_messages"
   ]
  },
  {
   "cell_type": "code",
   "execution_count": 29,
   "metadata": {},
   "outputs": [
    {
     "data": {
      "text/plain": [
       "<function list.reverse()>"
      ]
     },
     "execution_count": 29,
     "metadata": {},
     "output_type": "execute_result"
    }
   ],
   "source": [
    "context_messages.reverse"
   ]
  },
  {
   "cell_type": "code",
   "execution_count": 30,
   "metadata": {},
   "outputs": [],
   "source": [
    "context_messages.append(\n",
    "    {\n",
    "        \"role\": \"user\",\n",
    "        \"content\": \"Do you think the same method can be applied to pancakes?\"\n",
    "    }\n",
    ")"
   ]
  },
  {
   "cell_type": "code",
   "execution_count": 31,
   "metadata": {},
   "outputs": [],
   "source": [
    "## New Thread\n",
    "second_thread = client.beta.threads.create(\n",
    "  messages=context_messages\n",
    ")"
   ]
  },
  {
   "cell_type": "code",
   "execution_count": 32,
   "metadata": {},
   "outputs": [
    {
     "name": "stdout",
     "output_type": "stream",
     "text": [
      "STATUS: in_progress\n",
      "STATUS: in_progress\n",
      "STATUS: in_progress\n",
      "STATUS: in_progress\n",
      "STATUS: in_progress\n",
      "STATUS: in_progress\n",
      "STATUS: in_progress\n",
      "STATUS: in_progress\n",
      "STATUS: in_progress\n",
      "STATUS: in_progress\n",
      "STATUS: in_progress\n",
      "STATUS: in_progress\n",
      "STATUS: in_progress\n",
      "STATUS: in_progress\n",
      "STATUS: in_progress\n",
      "STATUS: in_progress\n",
      "STATUS: in_progress\n",
      "STATUS: in_progress\n",
      "STATUS: in_progress\n",
      "STATUS: in_progress\n",
      "STATUS: completed\n",
      "SyncCursorPage[Message](data=[Message(id='msg_trZi6c9LIbXsR4oRWzIeX8Td', assistant_id='asst_DSEELOH61EDi6RTepRU9ECM4', attachments=[], completed_at=None, content=[TextContentBlock(text=Text(annotations=[], value='Using the spoon-and-level method for measuring flour and other dry ingredients can definitely be applied to making pancakes. Accurate measurements are key in achieving the right texture and consistency in your pancake batter. Here’s a simple recipe and some tips to help you make delicious, fluffy pancakes:\\n\\n### Classic Pancake Recipe\\n\\n**Ingredients:**\\n\\n- 1 & 1/2 cups (190g) all-purpose flour\\n- 3 & 1/2 tsp baking powder\\n- 1 tsp salt\\n- 1 tbsp granulated sugar\\n- 1 & 1/4 cups (300ml) milk\\n- 1 egg\\n- 3 tbsp (45g) melted butter\\n- 1 tsp vanilla extract (optional)\\n\\n**Instructions:**\\n\\n1. **Mix Dry Ingredients:**\\n   - In a large bowl, sift together the flour, baking powder, salt, and sugar using the spoon-and-level method to measure the flour accurately.\\n\\n2. **Combine Wet Ingredients:**\\n   - In another bowl, whisk together the milk, egg, melted butter, and vanilla extract.\\n\\n3. **Mix Everything Together:**\\n   - Pour the wet ingredients into the dry ingredients and gently stir until just combined. The batter should be slightly lumpy. Overmixing can lead to tough pancakes.\\n\\n4. **Preheat and Grease Skillet:**\\n   - Preheat a non-stick skillet or griddle over medium heat and lightly grease it with butter or oil.\\n\\n5. **Cook the Pancakes:**\\n   - Pour about 1/4 cup of batter onto the skillet for each pancake. Cook until bubbles form on the surface and the edges look set, then flip and cook until browned on the other side, about 1-2 minutes per side.\\n\\n6. **Serve:**\\n   - Serve the pancakes warm with your favorite toppings like syrup, fresh fruit, or whipped cream.\\n\\n### Tips for Perfect Pancakes:\\n\\n- **Accurate Measuring:** Always use the spoon-and-level method for measuring flour to avoid adding too much and making the batter too thick.\\n- **Don’t Overmix:** A few small lumps in the batter are fine; overmixing can cause the pancakes to be tough.\\n- **Right Temperature:** Cook pancakes on medium heat. Too high heat can burn the outside while the inside remains undercooked.\\n- **Fresh Ingredients:** Ensure your baking powder is fresh for maximum rise and fluffiness.\\n- **Resting the Batter:** If you have time, let the batter rest for 5-10 minutes before cooking. This helps the ingredients to meld together and the gluten to relax, resulting in more tender pancakes.\\n\\nBy applying the same accurate measuring method to pancakes, you can ensure consistent and delicious results. Enjoy your homemade pancakes!'), type='text')], created_at=1725912395, incomplete_at=None, incomplete_details=None, metadata={}, object='thread.message', role='assistant', run_id='run_dldoZDqPf3YMtzSsQjde7mOK', status=None, thread_id='thread_X6kozx4N2RbEHygf1zhL4dcj'), Message(id='msg_ZWW5M73eIW7HvZnHx3Bml0JC', assistant_id=None, attachments=[], completed_at=None, content=[TextContentBlock(text=Text(annotations=[], value='Do you think the same method can be applied to pancakes?'), type='text')], created_at=1725912393, incomplete_at=None, incomplete_details=None, metadata={}, object='thread.message', role='user', run_id=None, status=None, thread_id='thread_X6kozx4N2RbEHygf1zhL4dcj'), Message(id='msg_kqAfOFZ0adZb1bsOepAY4vn2', assistant_id=None, attachments=[], completed_at=None, content=[TextContentBlock(text=Text(annotations=[], value='Its my first time making a chocolate cake. What do you suggest?'), type='text')], created_at=1725912393, incomplete_at=None, incomplete_details=None, metadata={}, object='thread.message', role='user', run_id=None, status=None, thread_id='thread_X6kozx4N2RbEHygf1zhL4dcj'), Message(id='msg_CzZvPPkyJB6QIWH0mqkbdKed', assistant_id=None, attachments=[], completed_at=None, content=[TextContentBlock(text=Text(annotations=[], value=\"Making a chocolate cake for the first time is a delightful experience! Here’s a straightforward and delicious recipe to help you create a delectable chocolate cake:\\n\\n### Classic Chocolate Cake Recipe\\n\\n**Ingredients:**\\n\\n#### For the Cake:\\n- 1 & 3/4 cups (220g) all-purpose flour\\n- 2 cups (400g) granulated sugar\\n- 3/4 cup (65g) unsweetened cocoa powder\\n- 1 & 1/2 tsp baking powder\\n- 1 & 1/2 tsp baking soda\\n- 1 tsp salt\\n- 2 large eggs\\n- 1 cup (240ml) whole milk\\n- 1/2 cup (120ml) vegetable oil\\n- 2 tsp vanilla extract\\n- 1 cup (240ml) boiling water\\n\\n#### For the Frosting:\\n- 1 cup (230g) unsalted butter, softened\\n- 3 & 1/2 cups (440g) powdered sugar\\n- 1/2 cup (45g) unsweetened cocoa powder\\n- 1/2 cup (120ml) whole milk\\n- 2 tsp vanilla extract\\n\\n**Instructions:**\\n\\n### Preparing the Cake:\\n\\n1. **Preheat Your Oven:**\\n   Preheat your oven to 350°F (175°C) and grease and flour two 9-inch round baking pans.\\n\\n2. **Mix Dry Ingredients:**\\n   In a large bowl, sift together the flour, sugar, cocoa powder, baking powder, baking soda, and salt.\\n\\n3. **Mix Wet Ingredients:**\\n   Add the eggs, milk, oil, and vanilla extract to the dry ingredients and beat on medium speed until well combined. This can be done using a stand mixer, a hand mixer, or even by hand with a whisk.\\n\\n4. **Add Boiling Water:**\\n   Carefully stir in the boiling water. The batter will be very thin, but that's okay.\\n\\n5. **Bake:**\\n   Divide the batter evenly between the prepared pans. Bake for 30-35 minutes, or until a toothpick inserted into the center comes out clean.\\n\\n6. **Cool:**\\n   Remove from the oven and allow the cakes to cool in the pans for about 10 minutes. Then, transfer to a wire rack to cool completely.\\n\\n### Preparing the Frosting:\\n\\n1. **Cream Butter:**\\n   In a large mixing bowl, beat the butter on medium speed until creamy.\\n\\n2. **Add Dry Ingredients:**\\n   Gradually add the powdered sugar and cocoa powder, beating on low speed until incorporated.\\n\\n3. **Add Milk and Vanilla:**\\n   Increase to medium speed and add in the milk and vanilla extract, beating until the frosting is smooth and spreadable. If the frosting is too thick, add a little more milk; if it’s too thin, add a bit more powdered sugar.\\n\\n### Assembling the Cake:\\n\\n1. **Layer:**\\n   Place one cake layer on a serving plate and spread a generous amount of frosting on top.\\n\\n2. **Stack:**\\n   Place the second cake layer on top and frost the top and sides of the cake.\\n\\n3. **Decorate:**\\n   Decorate the cake as you like – you can add chocolate shavings, sprinkles, or leave it classic and simple.\\n\\n4. **Serve:**\\n   Slice and enjoy your homemade chocolate cake!\\n\\n### Tips:\\n\\n- **Use Room Temperature Ingredients:** This helps everything mix together more smoothly.\\n- **Measure Accurately:** Especially with the flour – too much can make the cake dense and dry. Spoon the flour into your measuring cup and level it off with a knife.\\n- **Don’t Overmix:** Mix until just combined to avoid a tough cake.\\n- **Bake Evenly:** If you’re concerned about your cakes baking flat and evenly, you can use cake strips around your pans to help with this.\\n\\nEnjoy your baking! Making a chocolate cake is a rewarding process, and the result is always a crowd-pleaser.\"), type='text')], created_at=1725912393, incomplete_at=None, incomplete_details=None, metadata={}, object='thread.message', role='assistant', run_id=None, status=None, thread_id='thread_X6kozx4N2RbEHygf1zhL4dcj'), Message(id='msg_s8qYInWfr2HELAi2Rf1cvoNp', assistant_id=None, attachments=[], completed_at=None, content=[TextContentBlock(text=Text(annotations=[], value='I think my chocolate cake went bad, what could I have done wrong?'), type='text')], created_at=1725912393, incomplete_at=None, incomplete_details=None, metadata={}, object='thread.message', role='user', run_id=None, status=None, thread_id='thread_X6kozx4N2RbEHygf1zhL4dcj'), Message(id='msg_c2jlcyFVScb2c1jZbtZANRxW', assistant_id=None, attachments=[], completed_at=None, content=[TextContentBlock(text=Text(annotations=[], value=\"I'm sorry to hear that your chocolate cake didn’t turn out as expected. There are several factors that can affect the outcome of a cake, so let’s troubleshoot some common issues you might have encountered:\\n\\n1. **Incorrect Measurements:**\\n    - **Too Much Flour:** Did you measure the flour properly? Overpacking the measuring cup can lead to a dense and dry cake.\\n    - **Baking Powder/Soda Issues:** Ensure you're using the correct amounts and that your baking powder or soda is fresh. Old leavening agents can lose their potency.\\n\\n2. **Mixing Problems:**\\n    - **Overmixing the Batter:** Overmixing can develop too much gluten in the flour, leading to a tough and dense cake.\\n    - **Undermixing:** On the other hand, undermixing can leave you with lumps of flour and uneven texture.\\n\\n3. **Temperature Issues:**\\n    - **Incorrect Oven Temperature:** Make sure your oven is properly preheated and at the correct temperature. An oven thermometer can help verify this.\\n    - **Room Temperature Ingredients:** Using cold ingredients, especially eggs and butter, can affect the batter’s consistency and the cake’s final texture. \\n\\n4. **Baking Time:**\\n    - **Overbaking:** Did you bake the cake too long? Overbaking can make the cake dry and crumbly. Make sure to check for doneness with a toothpick.\\n    - **Underbaking:** If the cake is underbaked, it can be soggy and dense. Again, use the toothpick test to ensure it's baked through.\\n\\n5. **Ingredient Quality:**\\n    - **Quality of Cocoa Powder and Chocolate:** Using poor quality or the wrong type of cocoa powder (such as sweetened instead of unsweetened) can change the flavor and consistency.\\n    - **Freshness of Ingredients:** Make sure all your ingredients (eggs, milk, baking powder, etc.) are fresh and not expired.\\n\\n6. **Cake Assembly:**\\n    - If the layers didn't stack well, it could be because they weren’t completely cool or were not level. Make sure to let the cakes cool completely and trim any domed tops if necessary.\\n\\n### Troubleshooting Common Issues:\\n\\n- **Dry Cake:** This may be due to overbaking, too much flour, or insufficient fat (butter/oil).\\n- **Dense Cake:** Overmixing, incorrect flour measurement, or expired leavening agents could be the culprit.\\n- **Soggy/Undercooked Cake:** Not baking long enough, incorrect oven temperature, or too much liquid can cause this issue.\\n- **Bitter or Off Taste:** Check the quality and freshness of your cocoa powder and chocolate, as well as ensuring the right amount of leavening agents were used.\\n\\nIf you can identify where things might have gone wrong, you can adjust your approach for the next time. Baking can be a bit of a science, but with practice, you’ll get better results. Don’t be discouraged; every mistake is an opportunity to learn!\"), type='text')], created_at=1725912393, incomplete_at=None, incomplete_details=None, metadata={}, object='thread.message', role='assistant', run_id=None, status=None, thread_id='thread_X6kozx4N2RbEHygf1zhL4dcj'), Message(id='msg_0N0cCegwIrhHfrioJ8S81qcC', assistant_id=None, attachments=[], completed_at=None, content=[TextContentBlock(text=Text(annotations=[], value='This time I used the spoon-and-level method and it worked!'), type='text')], created_at=1725912393, incomplete_at=None, incomplete_details=None, metadata={}, object='thread.message', role='user', run_id=None, status=None, thread_id='thread_X6kozx4N2RbEHygf1zhL4dcj'), Message(id='msg_HWcYns5neRoTgb3LFsfHrTkT', assistant_id=None, attachments=[], completed_at=None, content=[TextContentBlock(text=Text(annotations=[], value=\"That's fantastic to hear! The spoon-and-level method is indeed a great way to ensure you're measuring your dry ingredients accurately, which can make a big difference in the outcome of your baked goods. Here's a quick reminder of the method for any future baking endeavors:\\n\\n### Spoon-and-Level Method:\\n\\n1. **Fluff the Flour:** Before measuring, use a spoon to fluff up the flour inside the container. This prevents it from being packed down.\\n\\n2. **Spoon the Flour:** Use a spoon to scoop the flour into your measuring cup. Do not directly dip the measuring cup into the flour container, as this can cause the flour to compact and lead to too much flour in your recipe.\\n\\n3. **Level it Off:** Once the flour is heaped in the measuring cup, use the flat edge of a knife or a straight edge to level off the excess flour, ensuring the top is flat and even.\\n\\n### Baking Tips for Continued Success:\\n\\n- **Room Temperature Ingredients:** Continue to bring your ingredients like eggs and butter to room temperature before using. It helps with even mixing and a consistent batter.\\n  \\n- **Oven Temperature:** Always preheat your oven and use an oven thermometer if possible to ensure it's at the correct temperature.\\n  \\n- **Mixing:** Mix your batter until the ingredients are just combined. Overmixing can lead to a tough cake.\\n\\n- **Cooling:** Allow your cakes to cool completely before frosting or assembling.\\n\\nYour attention to detail with the spoon-and-level method shows how small changes can lead to great results. Enjoy your delicious chocolate cake, and happy baking!\"), type='text')], created_at=1725912393, incomplete_at=None, incomplete_details=None, metadata={}, object='thread.message', role='assistant', run_id=None, status=None, thread_id='thread_X6kozx4N2RbEHygf1zhL4dcj')], object='list', first_id='msg_trZi6c9LIbXsR4oRWzIeX8Td', last_id='msg_HWcYns5neRoTgb3LFsfHrTkT', has_more=False)\n"
     ]
    }
   ],
   "source": [
    "## Running new thread with old context (?)\n",
    "\n",
    "run = client.beta.threads.runs.create(\n",
    "  thread_id=second_thread.id,\n",
    "  assistant_id=assistant.id\n",
    ")\n",
    "\n",
    "while True:\n",
    "    out = client.beta.threads.runs.retrieve(\n",
    "    thread_id=second_thread.id,\n",
    "    run_id=run.id)\n",
    "    print(f\"STATUS: {out.status}\")\n",
    "    if out.status != \"completed\":\n",
    "        continue\n",
    "    else:\n",
    "        print(client.beta.threads.messages.list(\n",
    "  thread_id=second_thread.id))\n",
    "        break"
   ]
  },
  {
   "cell_type": "code",
   "execution_count": 33,
   "metadata": {},
   "outputs": [
    {
     "name": "stdout",
     "output_type": "stream",
     "text": [
      "Assistant response: [TextContentBlock(text=Text(annotations=[], value='Using the spoon-and-level method for measuring flour and other dry ingredients can definitely be applied to making pancakes. Accurate measurements are key in achieving the right texture and consistency in your pancake batter. Here’s a simple recipe and some tips to help you make delicious, fluffy pancakes:\\n\\n### Classic Pancake Recipe\\n\\n**Ingredients:**\\n\\n- 1 & 1/2 cups (190g) all-purpose flour\\n- 3 & 1/2 tsp baking powder\\n- 1 tsp salt\\n- 1 tbsp granulated sugar\\n- 1 & 1/4 cups (300ml) milk\\n- 1 egg\\n- 3 tbsp (45g) melted butter\\n- 1 tsp vanilla extract (optional)\\n\\n**Instructions:**\\n\\n1. **Mix Dry Ingredients:**\\n   - In a large bowl, sift together the flour, baking powder, salt, and sugar using the spoon-and-level method to measure the flour accurately.\\n\\n2. **Combine Wet Ingredients:**\\n   - In another bowl, whisk together the milk, egg, melted butter, and vanilla extract.\\n\\n3. **Mix Everything Together:**\\n   - Pour the wet ingredients into the dry ingredients and gently stir until just combined. The batter should be slightly lumpy. Overmixing can lead to tough pancakes.\\n\\n4. **Preheat and Grease Skillet:**\\n   - Preheat a non-stick skillet or griddle over medium heat and lightly grease it with butter or oil.\\n\\n5. **Cook the Pancakes:**\\n   - Pour about 1/4 cup of batter onto the skillet for each pancake. Cook until bubbles form on the surface and the edges look set, then flip and cook until browned on the other side, about 1-2 minutes per side.\\n\\n6. **Serve:**\\n   - Serve the pancakes warm with your favorite toppings like syrup, fresh fruit, or whipped cream.\\n\\n### Tips for Perfect Pancakes:\\n\\n- **Accurate Measuring:** Always use the spoon-and-level method for measuring flour to avoid adding too much and making the batter too thick.\\n- **Don’t Overmix:** A few small lumps in the batter are fine; overmixing can cause the pancakes to be tough.\\n- **Right Temperature:** Cook pancakes on medium heat. Too high heat can burn the outside while the inside remains undercooked.\\n- **Fresh Ingredients:** Ensure your baking powder is fresh for maximum rise and fluffiness.\\n- **Resting the Batter:** If you have time, let the batter rest for 5-10 minutes before cooking. This helps the ingredients to meld together and the gluten to relax, resulting in more tender pancakes.\\n\\nBy applying the same accurate measuring method to pancakes, you can ensure consistent and delicious results. Enjoy your homemade pancakes!'), type='text')]\n",
      "\n"
     ]
    }
   ],
   "source": [
    "# Retrieve the assistant's response message\n",
    "response_message = None\n",
    "messages = client.beta.threads.messages.list(thread_id=second_thread.id).data\n",
    "for message in messages:\n",
    "    if message.role == \"assistant\":\n",
    "        response_message = message\n",
    "        break\n",
    "\n",
    "if response_message:\n",
    "    print(f\"Assistant response: {response_message.content}\\n\")\n",
    "else:\n",
    "    print(\"No assistant response found.\\n\")"
   ]
  },
  {
   "cell_type": "markdown",
   "metadata": {},
   "source": [
    "### Submiting a message, canceling the run, creating a second message and submit it.\n",
    "\n",
    "--> Model should NOT anwser the first question."
   ]
  },
  {
   "cell_type": "code",
   "execution_count": 34,
   "metadata": {},
   "outputs": [],
   "source": [
    "## Assistant\n",
    "game_assistant = client.beta.assistants.create(\n",
    "  name=\"PRO Gamer\",\n",
    "  description=\"You're a superpopular game professional in Atlastown. You are super cool and help with tips and reviews about games.\",\n",
    "  model=\"gpt-4o\"\n",
    ")"
   ]
  },
  {
   "cell_type": "code",
   "execution_count": 64,
   "metadata": {},
   "outputs": [
    {
     "name": "stdout",
     "output_type": "stream",
     "text": [
      "THREAD ID: thread_tdKJUFxXS1K51edVKcg7lePc\n",
      "RUN ID: run_Dfj0ElU02Yctra1NP5GWn0sG\n",
      "MACAQUIC SUJA\n",
      "New message created.\n",
      "New run created: run_I8euAYcV93CX6uLZ9sbisM5O\n",
      "Run(id='run_I8euAYcV93CX6uLZ9sbisM5O', assistant_id='asst_DSEELOH61EDi6RTepRU9ECM4', cancelled_at=None, completed_at=None, created_at=1725915414, expires_at=1725916014, failed_at=None, incomplete_details=None, instructions=None, last_error=None, max_completion_tokens=None, max_prompt_tokens=None, metadata={}, model='gpt-4o', object='thread.run', parallel_tool_calls=True, required_action=None, response_format='auto', started_at=1725915414, status='in_progress', thread_id='thread_tdKJUFxXS1K51edVKcg7lePc', tool_choice='auto', tools=[], truncation_strategy=TruncationStrategy(type='auto', last_messages=None), usage=None, temperature=1.0, top_p=1.0, tool_resources={})\n",
      "Run(id='run_I8euAYcV93CX6uLZ9sbisM5O', assistant_id='asst_DSEELOH61EDi6RTepRU9ECM4', cancelled_at=None, completed_at=1725915415, created_at=1725915414, expires_at=None, failed_at=None, incomplete_details=None, instructions=None, last_error=None, max_completion_tokens=None, max_prompt_tokens=None, metadata={}, model='gpt-4o', object='thread.run', parallel_tool_calls=True, required_action=None, response_format='auto', started_at=1725915414, status='completed', thread_id='thread_tdKJUFxXS1K51edVKcg7lePc', tool_choice='auto', tools=[], truncation_strategy=TruncationStrategy(type='auto', last_messages=None), usage=Usage(completion_tokens=57, prompt_tokens=63, total_tokens=120), temperature=1.0, top_p=1.0, tool_resources={})\n",
      "Status: cancelled\n"
     ]
    }
   ],
   "source": [
    "## Thread\n",
    "thread = client.beta.threads.create(\n",
    "  messages=[\n",
    "    {\n",
    "      \"role\": \"user\",\n",
    "      \"content\": \"What are some cool vintage games from 2000s?\",\n",
    "    }\n",
    "  ]\n",
    ")\n",
    "\n",
    "print(f\"THREAD ID: {thread.id}\")\n",
    "\n",
    "## Creating a run\n",
    "run = client.beta.threads.runs.create(\n",
    "  thread_id=thread.id,\n",
    "  assistant_id=game_assistant.id\n",
    ")\n",
    "\n",
    "print(f\"RUN ID: {run.id}\")\n",
    "\n",
    "run = client.beta.threads.runs.retrieve(\n",
    "  thread_id=thread.id,\n",
    "  run_id=run.id\n",
    ")\n",
    "\n",
    "client.beta.threads.runs.cancel(\n",
    "  thread_id=thread.id,\n",
    "  run_id=run.id\n",
    ")\n",
    "\n",
    "while run.status != \"cancelled\":\n",
    "  run = client.beta.threads.runs.retrieve(\n",
    "    thread_id=thread.id,\n",
    "    run_id=run.id\n",
    "  )\n",
    "\n",
    "if run.status == \"cancelled\":\n",
    "\n",
    "  print(\"MACAQUIC SUJA\")\n",
    "  \n",
    "  # New message\n",
    "  new_message = client.beta.threads.messages.create(\n",
    "      thread_id=thread.id,\n",
    "      role=\"user\",\n",
    "      content=\"My name is Morgana, this is female name. What is the male version of that name?\")\n",
    "  print(\"New message created.\")\n",
    "\n",
    "  # Create new run\n",
    "  new_run = client.beta.threads.runs.create(\n",
    "      thread_id=thread.id,\n",
    "      assistant_id=assistant.id)\n",
    "  print(f\"New run created: {new_run.id}\")\n",
    "\n",
    "  while True:\n",
    "    # Submit new run\n",
    "    new_out = client.beta.threads.runs.retrieve(\n",
    "        thread_id=thread.id,\n",
    "        run_id=new_run.id)\n",
    "    print(new_out)\n",
    "    time.sleep(2)\n",
    "\n",
    "    if new_out.status == \"completed\":\n",
    "      break\n",
    "\n",
    "\n",
    "print(f\"Status: {run.status}\")"
   ]
  },
  {
   "cell_type": "code",
   "execution_count": 65,
   "metadata": {},
   "outputs": [
    {
     "name": "stdout",
     "output_type": "stream",
     "text": [
      "Assistant response: []\n",
      "\n"
     ]
    }
   ],
   "source": [
    "# Retrieve the assistant's response message\n",
    "response_message = None\n",
    "messages = client.beta.threads.messages.list(thread_id=thread.id).data\n",
    "for message in messages:\n",
    "    if message.role == \"assistant\":\n",
    "        response_message = message\n",
    "\n",
    "if response_message:\n",
    "    print(f\"Assistant response: {response_message.content}\\n\")\n",
    "else:\n",
    "    print(\"No assistant response found.\\n\")"
   ]
  },
  {
   "cell_type": "code",
   "execution_count": 66,
   "metadata": {},
   "outputs": [
    {
     "data": {
      "text/plain": [
       "[Message(id='msg_koGqLNJmTupCXypWuMphSS5t', assistant_id='asst_DSEELOH61EDi6RTepRU9ECM4', attachments=[], completed_at=None, content=[TextContentBlock(text=Text(annotations=[], value='The name Morgana has roots in various cultures and is often linked to the Arthurian legend of Morgan le Fay. A common male counterpart of Morgana is Morgan. Morgan is a unisex name, but it is frequently used as a male name in Welsh and other cultures.'), type='text')], created_at=1725915414, incomplete_at=None, incomplete_details=None, metadata={}, object='thread.message', role='assistant', run_id='run_I8euAYcV93CX6uLZ9sbisM5O', status=None, thread_id='thread_tdKJUFxXS1K51edVKcg7lePc'),\n",
       " Message(id='msg_sgCAsnAb1Tsb1Sbi3HVtelFQ', assistant_id=None, attachments=[], completed_at=None, content=[TextContentBlock(text=Text(annotations=[], value='My name is Morgana, this is female name. What is the male version of that name?'), type='text')], created_at=1725915413, incomplete_at=None, incomplete_details=None, metadata={}, object='thread.message', role='user', run_id=None, status=None, thread_id='thread_tdKJUFxXS1K51edVKcg7lePc'),\n",
       " Message(id='msg_5QNLObbRkHdwLnqSZMSsNsNX', assistant_id='asst_Yn6SSA0SHruUxmwdv8O4x16E', attachments=[], completed_at=None, content=[], created_at=1725915412, incomplete_at=None, incomplete_details=None, metadata={}, object='thread.message', role='assistant', run_id='run_Dfj0ElU02Yctra1NP5GWn0sG', status=None, thread_id='thread_tdKJUFxXS1K51edVKcg7lePc'),\n",
       " Message(id='msg_1YNFIRZ1jPqIIHurwdjJldW9', assistant_id=None, attachments=[], completed_at=None, content=[TextContentBlock(text=Text(annotations=[], value='What are some cool vintage games from 2000s?'), type='text')], created_at=1725915411, incomplete_at=None, incomplete_details=None, metadata={}, object='thread.message', role='user', run_id=None, status=None, thread_id='thread_tdKJUFxXS1K51edVKcg7lePc')]"
      ]
     },
     "execution_count": 66,
     "metadata": {},
     "output_type": "execute_result"
    }
   ],
   "source": [
    "messages"
   ]
  }
 ],
 "metadata": {
  "kernelspec": {
   "display_name": "prompts-v2",
   "language": "python",
   "name": "python3"
  },
  "language_info": {
   "codemirror_mode": {
    "name": "ipython",
    "version": 3
   },
   "file_extension": ".py",
   "mimetype": "text/x-python",
   "name": "python",
   "nbconvert_exporter": "python",
   "pygments_lexer": "ipython3",
   "version": "3.10.14"
  }
 },
 "nbformat": 4,
 "nbformat_minor": 2
}
